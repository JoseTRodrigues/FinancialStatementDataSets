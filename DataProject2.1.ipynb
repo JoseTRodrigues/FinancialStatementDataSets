{
 "cells": [
  {
   "cell_type": "markdown",
   "metadata": {},
   "source": [
    "**<h1>DATA ANALYSIS ON THE FINANCIAL STATEMENT DATA SETS</h1>**\n",
    "Using data from https://www.sec.gov/data-research/sec-markets-data/financial-statement-data-sets\n",
    "\n",
    "It extracts the choosen Statement report of a choosen Company, saving it as a parquet file (optional) and plots choosen data (optional) \n",
    "\n",
    "NB: You need to download the .zip file that you want to analyse to your directory, and change the folder variable value "
   ]
  },
  {
   "cell_type": "code",
   "execution_count": 1,
   "metadata": {},
   "outputs": [],
   "source": [
    "\n",
    "import pandas as pd\n",
    "import matplotlib.pyplot as plt\n",
    "import ipywidgets as widgets\n",
    "from IPython.display import display, clear_output\n",
    "import zipfile\n",
    "import os\n",
    "\n",
    "# import requests\n",
    "# from zipfile import ZipFile\n",
    "# from io import BytesIO"
   ]
  },
  {
   "cell_type": "code",
   "execution_count": 2,
   "metadata": {},
   "outputs": [],
   "source": [
    "\n",
    "\n",
    "# year_dropdown = widgets.Dropdown(\n",
    "#     options=[2009 + i for i in range(16)],\n",
    "#     description='Year:',\n",
    "#     layout=widgets.Layout(width='200px', height='50px')\n",
    "# )\n",
    "\n",
    "# quarter_dropdown = widgets.Dropdown(\n",
    "#     options=['q1','q2','q3','q4'],\n",
    "#     description='Quarter:',\n",
    "#     layout=widgets.Layout(width='200px', height='50px')\n",
    "# )\n",
    "\n",
    "# # Display the dropdown widget\n",
    "# display(year_dropdown, quarter_dropdown)"
   ]
  },
  {
   "cell_type": "markdown",
   "metadata": {},
   "source": [
    "(change folder variable here)"
   ]
  },
  {
   "cell_type": "code",
   "execution_count": 3,
   "metadata": {},
   "outputs": [
    {
     "name": "stdout",
     "output_type": "stream",
     "text": [
      "Files extracted to: c:\\Users\\José\\OneDrive\\Ambiente de Trabalho\\FinancialDataSets\\2024q4\n"
     ]
    }
   ],
   "source": [
    "folder = '2024q4'\n",
    "\n",
    "\n",
    "# Define the path to the zip file and the extraction directory\n",
    "zip_file_path = os.path.join(os.getcwd(), folder) + '.zip'\n",
    "extraction_dir = os.path.join(os.getcwd(), folder)\n",
    "\n",
    "if not os.path.exists(extraction_dir): # Create new directory if it doesn't exist\n",
    "    os.makedirs(extraction_dir)\n",
    "\n",
    "with zipfile.ZipFile(zip_file_path, 'r') as zip_ref: # Open the zip file in read mode\n",
    "    zip_ref.extractall(extraction_dir)\n",
    "\n",
    "print(f'Files extracted to: {extraction_dir}')\n",
    "\n",
    "\n",
    "sub = pd.read_csv(folder+'/sub.txt',delimiter='\\t')\n",
    "tag = pd.read_csv(folder+'/tag.txt',delimiter='\\t')\n",
    "num = pd.read_csv(folder+'/num.txt',delimiter='\\t')\n",
    "pre = pd.read_csv(folder+'/pre.txt',delimiter='\\t')\n",
    "\n",
    "del(zip_file_path,folder)\n",
    "\n",
    "# print(f'Data: {folder}')\n",
    "\n",
    "\n",
    "#-----------Download from website--------------------\n",
    "# folder = str(year_dropdown.value) + quarter_dropdown.value # folder of the zip file choosen\n",
    "# print(folder)\n",
    "# url = 'https://www.sec.gov/files/dera/data/financial-statement-data-sets/' #url of data\n",
    "# url += folder + '.zip'\n",
    "# print(url)\n",
    "\n",
    "# response = requests.get(url) # Send a GET request to the URL\n",
    "# if response.status_code == 200:\n",
    "#     with ZipFile(BytesIO(response.content)) as zip_file: # Create a ZipFile object from the response content\n",
    "#         # Extract all contents to the current directory\n",
    "#         zip_file.extractall() # Extract all contents to the current directory\n",
    "#     print(\"Files extracted successfully\")\n",
    "# else:\n",
    "#     print(f\"Failed to download file: {response.status_code}\")\n"
   ]
  },
  {
   "cell_type": "markdown",
   "metadata": {},
   "source": [
    "Select __Company__ and __Statement type__ here:"
   ]
  },
  {
   "cell_type": "code",
   "execution_count": 4,
   "metadata": {},
   "outputs": [
    {
     "data": {
      "application/vnd.jupyter.widget-view+json": {
       "model_id": "90e6dd86893c4465b7c35c1616fc3e05",
       "version_major": 2,
       "version_minor": 0
      },
      "text/plain": [
       "Dropdown(description='Company:', layout=Layout(height='50px', width='400px'), options=('1 800 FLOWERS COM INC'…"
      ]
     },
     "metadata": {},
     "output_type": "display_data"
    },
    {
     "data": {
      "application/vnd.jupyter.widget-view+json": {
       "model_id": "4cc4aea93c834c12a490e71f784637ed",
       "version_major": 2,
       "version_minor": 0
      },
      "text/plain": [
       "Dropdown(description='Statement:', layout=Layout(height='50px', width='400px'), options=('Balance Sheet', 'Inc…"
      ]
     },
     "metadata": {},
     "output_type": "display_data"
    }
   ],
   "source": [
    "\n",
    "sub_name = sub['name'].sort_values()\n",
    "sub_name = sub_name.drop_duplicates(keep='first') # list of all companies (only the first appearence)\n",
    "Comp_dropdown = widgets.Dropdown(\n",
    "    options=sub_name.tolist(),\n",
    "    description='Company:',\n",
    "    layout=widgets.Layout(width='400px', height='50px')\n",
    ")\n",
    "\n",
    "report_df = pd.DataFrame({  'Balance Sheet': ['BS'], 'Income Statement': ['IS'], \n",
    "                            'Cash Flows': ['CF'], 'Equity': ['EQ'],\n",
    "                            'Comprehensive Income': ['CI'], 'Unclassifiable Statement': ['UN']})\n",
    "report_dropdown = widgets.Dropdown(\n",
    "    options=report_df.keys().to_list(),\n",
    "    description='Statement:',\n",
    "    layout=widgets.Layout(width='400px', height='50px')\n",
    ")\n",
    "\n",
    "# Display the dropdown widget\n",
    "display(Comp_dropdown, report_dropdown)\n",
    "\n",
    "del(sub_name)\n"
   ]
  },
  {
   "cell_type": "code",
   "execution_count": 5,
   "metadata": {},
   "outputs": [
    {
     "name": "stdout",
     "output_type": "stream",
     "text": [
      "\n",
      "Company: APPLE INC \n",
      "-> CIK: 320193; \n",
      "-> From: US, CA, CUPERTINO\n",
      "\n",
      "Table 1: Data of the Balance Sheet statement, ordered by uom, date and tag (respectively):\n"
     ]
    },
    {
     "data": {
      "application/vnd.microsoft.datawrangler.viewer.v0+json": {
       "columns": [
        {
         "name": "index",
         "rawType": "int64",
         "type": "integer"
        },
        {
         "name": "ddate",
         "rawType": "datetime64[ns]",
         "type": "datetime"
        },
        {
         "name": "tag",
         "rawType": "object",
         "type": "string"
        },
        {
         "name": "value",
         "rawType": "float64",
         "type": "float"
        },
        {
         "name": "uom",
         "rawType": "object",
         "type": "string"
        }
       ],
       "conversionMethod": "pd.DataFrame",
       "ref": "92b0cc80-f6bf-4f57-9047-66ebbd879929",
       "rows": [
        [
         "0",
         "2021-09-30 00:00:00",
         "StockholdersEquity",
         "63090000000.0",
         "USD"
        ],
        [
         "1",
         "2021-09-30 00:00:00",
         "StockholdersEquity",
         "5562000000.0",
         "USD"
        ],
        [
         "2",
         "2021-09-30 00:00:00",
         "StockholdersEquity",
         "163000000.0",
         "USD"
        ],
        [
         "3",
         "2021-09-30 00:00:00",
         "StockholdersEquity",
         "57365000000.0",
         "USD"
        ],
        [
         "4",
         "2022-09-30 00:00:00",
         "StockholdersEquity",
         "50672000000.0",
         "USD"
        ],
        [
         "5",
         "2022-09-30 00:00:00",
         "StockholdersEquity",
         "64849000000.0",
         "USD"
        ],
        [
         "6",
         "2022-09-30 00:00:00",
         "StockholdersEquity",
         "-11109000000.0",
         "USD"
        ],
        [
         "7",
         "2022-09-30 00:00:00",
         "StockholdersEquity",
         "-3068000000.0",
         "USD"
        ],
        [
         "8",
         "2023-09-30 00:00:00",
         "AccountsPayableCurrent",
         "62611000000.0",
         "USD"
        ],
        [
         "9",
         "2023-09-30 00:00:00",
         "AccountsReceivableNetCurrent",
         "29508000000.0",
         "USD"
        ],
        [
         "10",
         "2023-09-30 00:00:00",
         "AccumulatedOtherComprehensiveIncomeLossNetOfTax",
         "-11452000000.0",
         "USD"
        ],
        [
         "11",
         "2023-09-30 00:00:00",
         "Assets",
         "352583000000.0",
         "USD"
        ],
        [
         "12",
         "2023-09-30 00:00:00",
         "AssetsCurrent",
         "143566000000.0",
         "USD"
        ],
        [
         "13",
         "2023-09-30 00:00:00",
         "AssetsNoncurrent",
         "209017000000.0",
         "USD"
        ],
        [
         "14",
         "2023-09-30 00:00:00",
         "CashAndCashEquivalentsAtCarryingValue",
         "481000000.0",
         "USD"
        ],
        [
         "15",
         "2023-09-30 00:00:00",
         "CashAndCashEquivalentsAtCarryingValue",
         "0.0",
         "USD"
        ],
        [
         "16",
         "2023-09-30 00:00:00",
         "CashAndCashEquivalentsAtCarryingValue",
         "1125000000.0",
         "USD"
        ],
        [
         "17",
         "2023-09-30 00:00:00",
         "CashAndCashEquivalentsAtCarryingValue",
         "29965000000.0",
         "USD"
        ],
        [
         "18",
         "2023-09-30 00:00:00",
         "CashAndCashEquivalentsAtCarryingValue",
         "20000000.0",
         "USD"
        ],
        [
         "19",
         "2023-09-30 00:00:00",
         "CashAndCashEquivalentsAtCarryingValue",
         "35000000.0",
         "USD"
        ],
        [
         "20",
         "2023-09-30 00:00:00",
         "CashAndCashEquivalentsAtCarryingValue",
         "28359000000.0",
         "USD"
        ],
        [
         "21",
         "2023-09-30 00:00:00",
         "CashAndCashEquivalentsAtCarryingValue",
         "0.0",
         "USD"
        ],
        [
         "22",
         "2023-09-30 00:00:00",
         "CashAndCashEquivalentsAtCarryingValue",
         "0.0",
         "USD"
        ],
        [
         "23",
         "2023-09-30 00:00:00",
         "CashAndCashEquivalentsAtCarryingValue",
         "481000000.0",
         "USD"
        ],
        [
         "24",
         "2023-09-30 00:00:00",
         "CashAndCashEquivalentsAtCarryingValue",
         "36000000.0",
         "USD"
        ],
        [
         "25",
         "2023-09-30 00:00:00",
         "CashAndCashEquivalentsAtCarryingValue",
         "1034000000.0",
         "USD"
        ],
        [
         "26",
         "2023-09-30 00:00:00",
         "CashAndCashEquivalentsAtCarryingValue",
         "0.0",
         "USD"
        ],
        [
         "27",
         "2023-09-30 00:00:00",
         "CashAndCashEquivalentsAtCarryingValue",
         "0.0",
         "USD"
        ],
        [
         "28",
         "2023-09-30 00:00:00",
         "CommercialPaper",
         "5985000000.0",
         "USD"
        ],
        [
         "29",
         "2023-09-30 00:00:00",
         "CommercialPaper",
         "6000000000.0",
         "USD"
        ],
        [
         "31",
         "2023-09-30 00:00:00",
         "CommonStockParOrStatedValuePerShare",
         "0.0",
         "USD"
        ],
        [
         "32",
         "2023-09-30 00:00:00",
         "CommonStocksIncludingAdditionalPaidInCapital",
         "73812000000.0",
         "USD"
        ],
        [
         "33",
         "2023-09-30 00:00:00",
         "ContractWithCustomerLiabilityCurrent",
         "8061000000.0",
         "USD"
        ],
        [
         "34",
         "2023-09-30 00:00:00",
         "InventoryNet",
         "6331000000.0",
         "USD"
        ],
        [
         "35",
         "2023-09-30 00:00:00",
         "Liabilities",
         "290437000000.0",
         "USD"
        ],
        [
         "36",
         "2023-09-30 00:00:00",
         "LiabilitiesAndStockholdersEquity",
         "352583000000.0",
         "USD"
        ],
        [
         "37",
         "2023-09-30 00:00:00",
         "LiabilitiesCurrent",
         "145308000000.0",
         "USD"
        ],
        [
         "38",
         "2023-09-30 00:00:00",
         "LiabilitiesNoncurrent",
         "145129000000.0",
         "USD"
        ],
        [
         "39",
         "2023-09-30 00:00:00",
         "LongTermDebtCurrent",
         "9822000000.0",
         "USD"
        ],
        [
         "40",
         "2023-09-30 00:00:00",
         "LongTermDebtNoncurrent",
         "95281000000.0",
         "USD"
        ],
        [
         "41",
         "2023-09-30 00:00:00",
         "MarketableSecuritiesCurrent",
         "0.0",
         "USD"
        ],
        [
         "42",
         "2023-09-30 00:00:00",
         "MarketableSecuritiesCurrent",
         "428000000.0",
         "USD"
        ],
        [
         "43",
         "2023-09-30 00:00:00",
         "MarketableSecuritiesCurrent",
         "320000000.0",
         "USD"
        ],
        [
         "44",
         "2023-09-30 00:00:00",
         "MarketableSecuritiesCurrent",
         "31590000000.0",
         "USD"
        ],
        [
         "45",
         "2023-09-30 00:00:00",
         "MarketableSecuritiesCurrent",
         "0.0",
         "USD"
        ],
        [
         "46",
         "2023-09-30 00:00:00",
         "MarketableSecuritiesCurrent",
         "608000000.0",
         "USD"
        ],
        [
         "47",
         "2023-09-30 00:00:00",
         "MarketableSecuritiesCurrent",
         "192000000.0",
         "USD"
        ],
        [
         "48",
         "2023-09-30 00:00:00",
         "MarketableSecuritiesCurrent",
         "271000000.0",
         "USD"
        ],
        [
         "49",
         "2023-09-30 00:00:00",
         "MarketableSecuritiesCurrent",
         "344000000.0",
         "USD"
        ],
        [
         "50",
         "2023-09-30 00:00:00",
         "MarketableSecuritiesCurrent",
         "428000000.0",
         "USD"
        ]
       ],
       "shape": {
        "columns": 4,
        "rows": 160
       }
      },
      "text/html": [
       "<div>\n",
       "<style scoped>\n",
       "    .dataframe tbody tr th:only-of-type {\n",
       "        vertical-align: middle;\n",
       "    }\n",
       "\n",
       "    .dataframe tbody tr th {\n",
       "        vertical-align: top;\n",
       "    }\n",
       "\n",
       "    .dataframe thead th {\n",
       "        text-align: right;\n",
       "    }\n",
       "</style>\n",
       "<table border=\"1\" class=\"dataframe\">\n",
       "  <thead>\n",
       "    <tr style=\"text-align: right;\">\n",
       "      <th></th>\n",
       "      <th>ddate</th>\n",
       "      <th>tag</th>\n",
       "      <th>value</th>\n",
       "      <th>uom</th>\n",
       "    </tr>\n",
       "  </thead>\n",
       "  <tbody>\n",
       "    <tr>\n",
       "      <th>0</th>\n",
       "      <td>2021-09-30</td>\n",
       "      <td>StockholdersEquity</td>\n",
       "      <td>6.309000e+10</td>\n",
       "      <td>USD</td>\n",
       "    </tr>\n",
       "    <tr>\n",
       "      <th>1</th>\n",
       "      <td>2021-09-30</td>\n",
       "      <td>StockholdersEquity</td>\n",
       "      <td>5.562000e+09</td>\n",
       "      <td>USD</td>\n",
       "    </tr>\n",
       "    <tr>\n",
       "      <th>2</th>\n",
       "      <td>2021-09-30</td>\n",
       "      <td>StockholdersEquity</td>\n",
       "      <td>1.630000e+08</td>\n",
       "      <td>USD</td>\n",
       "    </tr>\n",
       "    <tr>\n",
       "      <th>3</th>\n",
       "      <td>2021-09-30</td>\n",
       "      <td>StockholdersEquity</td>\n",
       "      <td>5.736500e+10</td>\n",
       "      <td>USD</td>\n",
       "    </tr>\n",
       "    <tr>\n",
       "      <th>4</th>\n",
       "      <td>2022-09-30</td>\n",
       "      <td>StockholdersEquity</td>\n",
       "      <td>5.067200e+10</td>\n",
       "      <td>USD</td>\n",
       "    </tr>\n",
       "    <tr>\n",
       "      <th>...</th>\n",
       "      <td>...</td>\n",
       "      <td>...</td>\n",
       "      <td>...</td>\n",
       "      <td>...</td>\n",
       "    </tr>\n",
       "    <tr>\n",
       "      <th>157</th>\n",
       "      <td>2023-09-30</td>\n",
       "      <td>CommonStockSharesOutstanding</td>\n",
       "      <td>1.555006e+10</td>\n",
       "      <td>shares</td>\n",
       "    </tr>\n",
       "    <tr>\n",
       "      <th>158</th>\n",
       "      <td>2024-09-30</td>\n",
       "      <td>CommonStockSharesAuthorized</td>\n",
       "      <td>5.040000e+10</td>\n",
       "      <td>shares</td>\n",
       "    </tr>\n",
       "    <tr>\n",
       "      <th>159</th>\n",
       "      <td>2024-09-30</td>\n",
       "      <td>CommonStockSharesIssued</td>\n",
       "      <td>1.511679e+10</td>\n",
       "      <td>shares</td>\n",
       "    </tr>\n",
       "    <tr>\n",
       "      <th>160</th>\n",
       "      <td>2024-09-30</td>\n",
       "      <td>CommonStockSharesOutstanding</td>\n",
       "      <td>1.511679e+10</td>\n",
       "      <td>shares</td>\n",
       "    </tr>\n",
       "    <tr>\n",
       "      <th>161</th>\n",
       "      <td>2024-09-30</td>\n",
       "      <td>CommonStockSharesOutstanding</td>\n",
       "      <td>1.511679e+10</td>\n",
       "      <td>shares</td>\n",
       "    </tr>\n",
       "  </tbody>\n",
       "</table>\n",
       "<p>160 rows × 4 columns</p>\n",
       "</div>"
      ],
      "text/plain": [
       "         ddate                           tag         value     uom\n",
       "0   2021-09-30            StockholdersEquity  6.309000e+10     USD\n",
       "1   2021-09-30            StockholdersEquity  5.562000e+09     USD\n",
       "2   2021-09-30            StockholdersEquity  1.630000e+08     USD\n",
       "3   2021-09-30            StockholdersEquity  5.736500e+10     USD\n",
       "4   2022-09-30            StockholdersEquity  5.067200e+10     USD\n",
       "..         ...                           ...           ...     ...\n",
       "157 2023-09-30  CommonStockSharesOutstanding  1.555006e+10  shares\n",
       "158 2024-09-30   CommonStockSharesAuthorized  5.040000e+10  shares\n",
       "159 2024-09-30       CommonStockSharesIssued  1.511679e+10  shares\n",
       "160 2024-09-30  CommonStockSharesOutstanding  1.511679e+10  shares\n",
       "161 2024-09-30  CommonStockSharesOutstanding  1.511679e+10  shares\n",
       "\n",
       "[160 rows x 4 columns]"
      ]
     },
     "metadata": {},
     "output_type": "display_data"
    },
    {
     "name": "stdout",
     "output_type": "stream",
     "text": [
      "\n",
      "Table 2: Total of each tag per date of the Balance Sheet statement:\n"
     ]
    },
    {
     "data": {
      "application/vnd.microsoft.datawrangler.viewer.v0+json": {
       "columns": [
        {
         "name": "index",
         "rawType": "int64",
         "type": "integer"
        },
        {
         "name": "ddate",
         "rawType": "datetime64[ns]",
         "type": "datetime"
        },
        {
         "name": "tag",
         "rawType": "object",
         "type": "string"
        },
        {
         "name": "value",
         "rawType": "float64",
         "type": "float"
        },
        {
         "name": "uom",
         "rawType": "object",
         "type": "string"
        }
       ],
       "conversionMethod": "pd.DataFrame",
       "ref": "c165b9a9-cd34-405c-8bfc-87199aeba44d",
       "rows": [
        [
         "0",
         "2023-09-30 00:00:00",
         "AccountsPayableCurrent",
         "62611000000.0",
         "USD"
        ],
        [
         "1",
         "2024-09-30 00:00:00",
         "AccountsPayableCurrent",
         "68960000000.0",
         "USD"
        ],
        [
         "2",
         "2023-09-30 00:00:00",
         "AccountsReceivableNetCurrent",
         "29508000000.0",
         "USD"
        ],
        [
         "3",
         "2024-09-30 00:00:00",
         "AccountsReceivableNetCurrent",
         "33410000000.0",
         "USD"
        ],
        [
         "4",
         "2023-09-30 00:00:00",
         "AccumulatedOtherComprehensiveIncomeLossNetOfTax",
         "-11452000000.0",
         "USD"
        ],
        [
         "5",
         "2024-09-30 00:00:00",
         "AccumulatedOtherComprehensiveIncomeLossNetOfTax",
         "-7172000000.0",
         "USD"
        ],
        [
         "6",
         "2023-09-30 00:00:00",
         "Assets",
         "352583000000.0",
         "USD"
        ],
        [
         "7",
         "2024-09-30 00:00:00",
         "Assets",
         "364980000000.0",
         "USD"
        ],
        [
         "8",
         "2023-09-30 00:00:00",
         "AssetsCurrent",
         "143566000000.0",
         "USD"
        ],
        [
         "9",
         "2024-09-30 00:00:00",
         "AssetsCurrent",
         "152987000000.0",
         "USD"
        ],
        [
         "10",
         "2023-09-30 00:00:00",
         "AssetsNoncurrent",
         "209017000000.0",
         "USD"
        ],
        [
         "11",
         "2024-09-30 00:00:00",
         "AssetsNoncurrent",
         "211993000000.0",
         "USD"
        ],
        [
         "12",
         "2023-09-30 00:00:00",
         "CashAndCashEquivalentsAtCarryingValue",
         "61536000000.0",
         "USD"
        ],
        [
         "13",
         "2024-09-30 00:00:00",
         "CashAndCashEquivalentsAtCarryingValue",
         "62630000000.0",
         "USD"
        ],
        [
         "14",
         "2023-09-30 00:00:00",
         "CommercialPaper",
         "11985000000.0",
         "USD"
        ],
        [
         "15",
         "2024-09-30 00:00:00",
         "CommercialPaper",
         "19967000000.0",
         "USD"
        ],
        [
         "16",
         "2023-09-30 00:00:00",
         "CommonStockParOrStatedValuePerShare",
         "0.0",
         "USD"
        ],
        [
         "17",
         "2024-09-30 00:00:00",
         "CommonStockParOrStatedValuePerShare",
         "0.0",
         "USD"
        ],
        [
         "18",
         "2023-09-30 00:00:00",
         "CommonStocksIncludingAdditionalPaidInCapital",
         "73812000000.0",
         "USD"
        ],
        [
         "19",
         "2024-09-30 00:00:00",
         "CommonStocksIncludingAdditionalPaidInCapital",
         "83276000000.0",
         "USD"
        ],
        [
         "20",
         "2023-09-30 00:00:00",
         "ContractWithCustomerLiabilityCurrent",
         "8061000000.0",
         "USD"
        ],
        [
         "21",
         "2024-09-30 00:00:00",
         "ContractWithCustomerLiabilityCurrent",
         "8249000000.0",
         "USD"
        ],
        [
         "22",
         "2023-09-30 00:00:00",
         "InventoryNet",
         "6331000000.0",
         "USD"
        ],
        [
         "23",
         "2024-09-30 00:00:00",
         "InventoryNet",
         "7286000000.0",
         "USD"
        ],
        [
         "24",
         "2023-09-30 00:00:00",
         "Liabilities",
         "290437000000.0",
         "USD"
        ],
        [
         "25",
         "2024-09-30 00:00:00",
         "Liabilities",
         "308030000000.0",
         "USD"
        ],
        [
         "26",
         "2023-09-30 00:00:00",
         "LiabilitiesAndStockholdersEquity",
         "352583000000.0",
         "USD"
        ],
        [
         "27",
         "2024-09-30 00:00:00",
         "LiabilitiesAndStockholdersEquity",
         "364980000000.0",
         "USD"
        ],
        [
         "28",
         "2023-09-30 00:00:00",
         "LiabilitiesCurrent",
         "145308000000.0",
         "USD"
        ],
        [
         "29",
         "2024-09-30 00:00:00",
         "LiabilitiesCurrent",
         "176392000000.0",
         "USD"
        ],
        [
         "30",
         "2023-09-30 00:00:00",
         "LiabilitiesNoncurrent",
         "145129000000.0",
         "USD"
        ],
        [
         "31",
         "2024-09-30 00:00:00",
         "LiabilitiesNoncurrent",
         "131638000000.0",
         "USD"
        ],
        [
         "32",
         "2023-09-30 00:00:00",
         "LongTermDebtCurrent",
         "9822000000.0",
         "USD"
        ],
        [
         "33",
         "2024-09-30 00:00:00",
         "LongTermDebtCurrent",
         "10912000000.0",
         "USD"
        ],
        [
         "34",
         "2023-09-30 00:00:00",
         "LongTermDebtNoncurrent",
         "95281000000.0",
         "USD"
        ],
        [
         "35",
         "2024-09-30 00:00:00",
         "LongTermDebtNoncurrent",
         "85750000000.0",
         "USD"
        ],
        [
         "36",
         "2023-09-30 00:00:00",
         "MarketableSecuritiesCurrent",
         "94770000000.0",
         "USD"
        ],
        [
         "37",
         "2024-09-30 00:00:00",
         "MarketableSecuritiesCurrent",
         "105684000000.0",
         "USD"
        ],
        [
         "38",
         "2023-09-30 00:00:00",
         "MarketableSecuritiesNoncurrent",
         "301632000000.0",
         "USD"
        ],
        [
         "39",
         "2024-09-30 00:00:00",
         "MarketableSecuritiesNoncurrent",
         "274437000000.0",
         "USD"
        ],
        [
         "40",
         "2023-09-30 00:00:00",
         "NontradeReceivablesCurrent",
         "31477000000.0",
         "USD"
        ],
        [
         "41",
         "2024-09-30 00:00:00",
         "NontradeReceivablesCurrent",
         "32833000000.0",
         "USD"
        ],
        [
         "42",
         "2023-09-30 00:00:00",
         "OtherAssetsCurrent",
         "14695000000.0",
         "USD"
        ],
        [
         "43",
         "2024-09-30 00:00:00",
         "OtherAssetsCurrent",
         "14287000000.0",
         "USD"
        ],
        [
         "44",
         "2023-09-30 00:00:00",
         "OtherAssetsNoncurrent",
         "64758000000.0",
         "USD"
        ],
        [
         "45",
         "2024-09-30 00:00:00",
         "OtherAssetsNoncurrent",
         "74834000000.0",
         "USD"
        ],
        [
         "46",
         "2023-09-30 00:00:00",
         "OtherLiabilitiesCurrent",
         "58829000000.0",
         "USD"
        ],
        [
         "47",
         "2024-09-30 00:00:00",
         "OtherLiabilitiesCurrent",
         "78304000000.0",
         "USD"
        ],
        [
         "48",
         "2023-09-30 00:00:00",
         "OtherLiabilitiesNoncurrent",
         "49848000000.0",
         "USD"
        ],
        [
         "49",
         "2024-09-30 00:00:00",
         "OtherLiabilitiesNoncurrent",
         "45888000000.0",
         "USD"
        ]
       ],
       "shape": {
        "columns": 4,
        "rows": 66
       }
      },
      "text/html": [
       "<div>\n",
       "<style scoped>\n",
       "    .dataframe tbody tr th:only-of-type {\n",
       "        vertical-align: middle;\n",
       "    }\n",
       "\n",
       "    .dataframe tbody tr th {\n",
       "        vertical-align: top;\n",
       "    }\n",
       "\n",
       "    .dataframe thead th {\n",
       "        text-align: right;\n",
       "    }\n",
       "</style>\n",
       "<table border=\"1\" class=\"dataframe\">\n",
       "  <thead>\n",
       "    <tr style=\"text-align: right;\">\n",
       "      <th></th>\n",
       "      <th>ddate</th>\n",
       "      <th>tag</th>\n",
       "      <th>value</th>\n",
       "      <th>uom</th>\n",
       "    </tr>\n",
       "  </thead>\n",
       "  <tbody>\n",
       "    <tr>\n",
       "      <th>0</th>\n",
       "      <td>2023-09-30</td>\n",
       "      <td>AccountsPayableCurrent</td>\n",
       "      <td>6.261100e+10</td>\n",
       "      <td>USD</td>\n",
       "    </tr>\n",
       "    <tr>\n",
       "      <th>1</th>\n",
       "      <td>2024-09-30</td>\n",
       "      <td>AccountsPayableCurrent</td>\n",
       "      <td>6.896000e+10</td>\n",
       "      <td>USD</td>\n",
       "    </tr>\n",
       "    <tr>\n",
       "      <th>2</th>\n",
       "      <td>2023-09-30</td>\n",
       "      <td>AccountsReceivableNetCurrent</td>\n",
       "      <td>2.950800e+10</td>\n",
       "      <td>USD</td>\n",
       "    </tr>\n",
       "    <tr>\n",
       "      <th>3</th>\n",
       "      <td>2024-09-30</td>\n",
       "      <td>AccountsReceivableNetCurrent</td>\n",
       "      <td>3.341000e+10</td>\n",
       "      <td>USD</td>\n",
       "    </tr>\n",
       "    <tr>\n",
       "      <th>4</th>\n",
       "      <td>2023-09-30</td>\n",
       "      <td>AccumulatedOtherComprehensiveIncomeLossNetOfTax</td>\n",
       "      <td>-1.145200e+10</td>\n",
       "      <td>USD</td>\n",
       "    </tr>\n",
       "    <tr>\n",
       "      <th>...</th>\n",
       "      <td>...</td>\n",
       "      <td>...</td>\n",
       "      <td>...</td>\n",
       "      <td>...</td>\n",
       "    </tr>\n",
       "    <tr>\n",
       "      <th>61</th>\n",
       "      <td>2024-09-30</td>\n",
       "      <td>CommonStockSharesIssued</td>\n",
       "      <td>1.511679e+10</td>\n",
       "      <td>shares</td>\n",
       "    </tr>\n",
       "    <tr>\n",
       "      <th>62</th>\n",
       "      <td>2021-09-30</td>\n",
       "      <td>CommonStockSharesOutstanding</td>\n",
       "      <td>1.642679e+10</td>\n",
       "      <td>shares</td>\n",
       "    </tr>\n",
       "    <tr>\n",
       "      <th>63</th>\n",
       "      <td>2022-09-30</td>\n",
       "      <td>CommonStockSharesOutstanding</td>\n",
       "      <td>1.594342e+10</td>\n",
       "      <td>shares</td>\n",
       "    </tr>\n",
       "    <tr>\n",
       "      <th>64</th>\n",
       "      <td>2023-09-30</td>\n",
       "      <td>CommonStockSharesOutstanding</td>\n",
       "      <td>3.110012e+10</td>\n",
       "      <td>shares</td>\n",
       "    </tr>\n",
       "    <tr>\n",
       "      <th>65</th>\n",
       "      <td>2024-09-30</td>\n",
       "      <td>CommonStockSharesOutstanding</td>\n",
       "      <td>3.023357e+10</td>\n",
       "      <td>shares</td>\n",
       "    </tr>\n",
       "  </tbody>\n",
       "</table>\n",
       "<p>66 rows × 4 columns</p>\n",
       "</div>"
      ],
      "text/plain": [
       "        ddate                                              tag         value  \\\n",
       "0  2023-09-30                           AccountsPayableCurrent  6.261100e+10   \n",
       "1  2024-09-30                           AccountsPayableCurrent  6.896000e+10   \n",
       "2  2023-09-30                     AccountsReceivableNetCurrent  2.950800e+10   \n",
       "3  2024-09-30                     AccountsReceivableNetCurrent  3.341000e+10   \n",
       "4  2023-09-30  AccumulatedOtherComprehensiveIncomeLossNetOfTax -1.145200e+10   \n",
       "..        ...                                              ...           ...   \n",
       "61 2024-09-30                          CommonStockSharesIssued  1.511679e+10   \n",
       "62 2021-09-30                     CommonStockSharesOutstanding  1.642679e+10   \n",
       "63 2022-09-30                     CommonStockSharesOutstanding  1.594342e+10   \n",
       "64 2023-09-30                     CommonStockSharesOutstanding  3.110012e+10   \n",
       "65 2024-09-30                     CommonStockSharesOutstanding  3.023357e+10   \n",
       "\n",
       "       uom  \n",
       "0      USD  \n",
       "1      USD  \n",
       "2      USD  \n",
       "3      USD  \n",
       "4      USD  \n",
       "..     ...  \n",
       "61  shares  \n",
       "62  shares  \n",
       "63  shares  \n",
       "64  shares  \n",
       "65  shares  \n",
       "\n",
       "[66 rows x 4 columns]"
      ]
     },
     "metadata": {},
     "output_type": "display_data"
    },
    {
     "data": {
      "application/vnd.jupyter.widget-view+json": {
       "model_id": "a2ab118867f14dd4882c33b56e74b58e",
       "version_major": 2,
       "version_minor": 0
      },
      "text/plain": [
       "Button(description='Save Data', style=ButtonStyle())"
      ]
     },
     "metadata": {},
     "output_type": "display_data"
    },
    {
     "name": "stdout",
     "output_type": "stream",
     "text": [
      "\n",
      "Table 1 saved as Parquet file at: c:\\Users\\José\\OneDrive\\Ambiente de Trabalho\\FinancialDataSets\\APPLE INC-Balance Sheet\n"
     ]
    }
   ],
   "source": [
    "\n",
    "cik = sub[sub['name'] == Comp_dropdown.value]['cik'].values[0] # cik correspondig to user_CompName [value]\n",
    "adsh_cik = sub[sub['cik'] == cik]['adsh'] # selection of adsh values according with cik choosen\n",
    "pre_user = pre[(pre['adsh'].isin(adsh_cik)) & (pre['stmt'] == report_df[report_dropdown.value][0])] # pre filtered with user data (Company name and Report type)\n",
    "num_user = num[(num['adsh'].isin(adsh_cik)) & (num['tag'].isin(pre_user['tag']))][['ddate','tag','value','uom']] # num filtered with user data\n",
    "\n",
    "if num_user.empty:\n",
    "        print(f'\\n{Comp_dropdown.value} has no {report_dropdown.value} statement in this quarter.')\n",
    "else:\n",
    "        num_user['ddate'] = pd.to_datetime(num_user['ddate'],format='%Y%m%d') # conversion of ddate column to date format\n",
    "        num_user = num_user.sort_values(by=['uom','ddate','tag']).reset_index(drop=True) # sorting by value type (uom) ddate and tag\n",
    "        num_user = num_user.dropna() # removing \"Missing values\" rows\n",
    "\n",
    "\n",
    "        print(f'\\nCompany: {Comp_dropdown.value} \\n-> CIK: {cik}; \\n-> From: {sub[sub['cik']==cik]['countryba'].values[0]}, {sub[sub['cik']==cik]['stprba'].values[0]}, {sub[sub['cik']==cik]['cityba'].values[0]}')\n",
    "        print(f'\\nTable 1: Data of the {report_dropdown.value} statement, ordered by uom, date and tag (respectively):')\n",
    "\n",
    "        display(num_user)\n",
    "\n",
    "        num_user_total = num_user.groupby(['ddate', 'tag'], as_index=False).agg({\n",
    "                                'value': 'sum',\n",
    "                                'uom': 'first'\n",
    "                                })\n",
    "\n",
    "        # num_user_total = num_user.groupby(['uom','ddate', 'tag']).sum().reset_index()\n",
    "\n",
    "        num_user_total = num_user_total.sort_values(by=['uom','tag','ddate']).reset_index(drop=True)\n",
    "\n",
    "        print(f'\\nTable 2: Total of each tag per date of the {report_dropdown.value} statement:')\n",
    "        display(num_user_total)\n",
    "\n",
    "del(cik,adsh_cik)\n",
    "\n",
    "\n",
    "\n",
    "#-------------- SAVE FILTERED DATA (num_user) as Parquet file ----------------------------------\n",
    "\n",
    "def save_data(b):\n",
    "        save_dir = os.path.join(os.getcwd(), f'{Comp_dropdown.value}'+'-'+f'{report_dropdown.value}')\n",
    "        num_user.to_parquet(save_dir, engine='pyarrow', compression='snappy')\n",
    "        print(f'\\nTable 1 saved as Parquet file at: {save_dir}')\n",
    "        del(save_dir)\n",
    "\n",
    "save_button = widgets.Button(description=\"Save Data\") \n",
    "save_button.on_click(save_data)\n",
    "display(save_button)\n"
   ]
  },
  {
   "cell_type": "markdown",
   "metadata": {},
   "source": [
    "Choose __uom__ and __tag__ to plot data from __Table 2__ (only it is ploted data with at least 2 points):"
   ]
  },
  {
   "cell_type": "code",
   "execution_count": null,
   "metadata": {},
   "outputs": [
    {
     "data": {
      "application/vnd.jupyter.widget-view+json": {
       "model_id": "ebf602efd73c4f77afb4801d200e17e4",
       "version_major": 2,
       "version_minor": 0
      },
      "text/plain": [
       "Dropdown(description='Value type:', index=1, layout=Layout(height='50px', width='400px'), options=('USD', 'sha…"
      ]
     },
     "metadata": {},
     "output_type": "display_data"
    },
    {
     "data": {
      "application/vnd.jupyter.widget-view+json": {
       "model_id": "a42cbfd0e14f43bb8eca03b27eecd039",
       "version_major": 2,
       "version_minor": 0
      },
      "text/plain": [
       "Dropdown(description='Tag:', index=2, layout=Layout(height='50px', width='400px'), options=('CommonStockShares…"
      ]
     },
     "metadata": {},
     "output_type": "display_data"
    },
    {
     "data": {
      "application/vnd.jupyter.widget-view+json": {
       "model_id": "e032003fc2cb4ba0a702a51d83686b9f",
       "version_major": 2,
       "version_minor": 0
      },
      "text/plain": [
       "Button(description='Click to Plot', style=ButtonStyle())"
      ]
     },
     "metadata": {},
     "output_type": "display_data"
    },
    {
     "data": {
      "image/png": "[encoded data removed]",
      "text/plain": [
       "<Figure size 1000x600 with 1 Axes>"
      ]
     },
     "metadata": {},
     "output_type": "display_data"
    }
   ],
   "source": [
    "\n",
    "filtered_tags = num_user_total.groupby('tag').filter(lambda x: len(x) >= 2)['tag'].unique() # filter of data with at least 2 points of same tag\n",
    "num_user_plot  = num_user_total[num_user_total['tag'].isin(filtered_tags)].sort_values(by=['tag','ddate']) # filter num_user_total using filter_tags\n",
    "\n",
    "uom_dropdown = widgets.Dropdown(\n",
    "    options=num_user_plot['uom'].drop_duplicates(keep='first').to_list(),\n",
    "    description='Value type:',\n",
    "    layout=widgets.Layout(width='400px', height='50px')\n",
    ")\n",
    "\n",
    "tag_dropdown = widgets.Dropdown(\n",
    "    options=[],                     # !!! needs to start empty\n",
    "    description='Tag:',\n",
    "    layout=widgets.Layout(width='400px', height='50px')\n",
    ")\n",
    "\n",
    "# Function to update the tag dropdown based on the selected uom\n",
    "def update_tag(change):\n",
    "    selected_uom = change['new']\n",
    "    tag_dropdown.options = num_user_plot[num_user_plot['uom']==uom_dropdown.value]['tag'].drop_duplicates(keep='first')\n",
    "\n",
    "uom_dropdown.observe(update_tag, names='value')\n",
    "tag_dropdown.options = num_user_plot[num_user_plot['uom']==uom_dropdown.value]['tag'].drop_duplicates(keep='first')\n",
    "\n",
    "display(uom_dropdown, tag_dropdown)\n",
    "\n",
    "\n",
    "# Define the function to plot the data\n",
    "def plot_data(b):\n",
    "    clear_output(wait=True)  # Clear the output before displaying the new plot\n",
    "    display(uom_dropdown, tag_dropdown, plot_button) # Display the buttons again after plotting\n",
    "    plt.figure(figsize=(10, 6))\n",
    "    plt.plot(num_user_plot[(num_user_plot['tag']==tag_dropdown.value)&(num_user_plot['uom']==uom_dropdown.value)]['ddate'], \n",
    "             num_user_plot[(num_user_plot['tag']==tag_dropdown.value)&(num_user_plot['uom']==uom_dropdown.value)]['value'],\n",
    "             marker='o')\n",
    "    plt.xlabel('Date')\n",
    "    plt.ylabel(f'Value ({uom_dropdown.value})')\n",
    "    plt.title(f'{tag_dropdown.value}')\n",
    "    plt.grid(True)\n",
    "    plt.show()\n",
    "\n",
    "# Create a button widget\n",
    "plot_button = widgets.Button(description=\"Click to Plot\")\n",
    "\n",
    "# Add the function to the button's 'on_click' event\n",
    "plot_button.on_click(plot_data)\n",
    "\n",
    "display(plot_button)\n"
   ]
  }
 ],
 "metadata": {
  "kernelspec": {
   "display_name": "mein",
   "language": "python",
   "name": "python3"
  },
  "language_info": {
   "codemirror_mode": {
    "name": "ipython",
    "version": 3
   },
   "file_extension": ".py",
   "mimetype": "text/x-python",
   "name": "python",
   "nbconvert_exporter": "python",
   "pygments_lexer": "ipython3",
   "version": "3.13.2"
  }
 },
 "nbformat": 4,
 "nbformat_minor": 2
}
