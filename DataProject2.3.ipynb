{
 "cells": [
  {
   "cell_type": "markdown",
   "metadata": {},
   "source": [
    "**<h1>DATA ANALYSIS ON THE FINANCIAL STATEMENT DATA SETS</h1>**\n",
    "Using data from https://www.sec.gov/data-research/sec-markets-data/financial-statement-data-sets\n",
    "\n",
    "It extracts the choosen Statement Report of a choosen Company, saving it as a parquet file (optional) and plots choosen data (optional) \n",
    "\n",
    "NB: In this version it is possible to download the file directly from the program (choose in the beginning the file that you want)"
   ]
  },
  {
   "cell_type": "code",
   "execution_count": 1,
   "metadata": {},
   "outputs": [],
   "source": [
    "# IMPORTS\n",
    "import pandas as pd\n",
    "import matplotlib.pyplot as plt\n",
    "import ipywidgets as widgets\n",
    "from IPython.display import display, clear_output\n",
    "from zipfile import ZipFile\n",
    "import os\n",
    "import io\n",
    "import requests"
   ]
  },
  {
   "cell_type": "code",
   "execution_count": 2,
   "metadata": {},
   "outputs": [
    {
     "data": {
      "application/vnd.jupyter.widget-view+json": {
       "model_id": "c5345d7fdd8d4f59987947b1819140c8",
       "version_major": 2,
       "version_minor": 0
      },
      "text/plain": [
       "Dropdown(description='Year:', layout=Layout(height='50px', width='200px'), options=(2009, 2010, 2011, 2012, 20…"
      ]
     },
     "metadata": {},
     "output_type": "display_data"
    },
    {
     "data": {
      "application/vnd.jupyter.widget-view+json": {
       "model_id": "a1307bf5de8a4d4f91310d7f7a3e6349",
       "version_major": 2,
       "version_minor": 0
      },
      "text/plain": [
       "Dropdown(description='Quarter:', layout=Layout(height='50px', width='200px'), options=('q1', 'q2', 'q3', 'q4')…"
      ]
     },
     "metadata": {},
     "output_type": "display_data"
    }
   ],
   "source": [
    "# YEAR AND DATA SELECTION\n",
    "year_dropdown = widgets.Dropdown(\n",
    "    options=[2009 + i for i in range(16)],\n",
    "    description='Year:',\n",
    "    layout=widgets.Layout(width='200px', height='50px')\n",
    ")\n",
    "\n",
    "quarter_dropdown = widgets.Dropdown(\n",
    "    options=['q1','q2','q3','q4'],\n",
    "    description='Quarter:',\n",
    "    layout=widgets.Layout(width='200px', height='50px')\n",
    ")\n",
    "\n",
    "# Display the dropdown widget\n",
    "display(year_dropdown, quarter_dropdown)"
   ]
  },
  {
   "cell_type": "code",
   "execution_count": 3,
   "metadata": {},
   "outputs": [
    {
     "name": "stdout",
     "output_type": "stream",
     "text": [
      "Data already downloaded and extracted to 2024q4.\n",
      "Loading data...\n",
      "Done\n"
     ]
    }
   ],
   "source": [
    "#----------- Download from website ----------------------------------------------------------------\n",
    "folder = str(year_dropdown.value) + quarter_dropdown.value # folder of the zip file choosen\n",
    "\n",
    "# Only downloads if files don't exist already\n",
    "if os.path.exists(folder):\n",
    "    print(f'Data already downloaded and extracted to {folder}.') \n",
    "\n",
    "else:\n",
    "    output_path = folder + '.zip' # Path where the zip file will be saved\n",
    "    # print(folder)\n",
    "    url = 'https://www.sec.gov/files/dera/data/financial-statement-data-sets/' #url of data\n",
    "    url += output_path\n",
    "    # print(url)\n",
    "\n",
    "    # Headers to mimic a browser request\n",
    "    headers = {\n",
    "        'Accept': 'image/avif,image/webp,image/apng,image/svg+xml,image/*,*/*;q=0.8',\n",
    "        'Accept-Encoding': 'gzip, deflate, br, zstd',\n",
    "        'Accept-Language': 'pt-PT,pt;q=0.9,pt-BR;q=0.8,en;q=0.7,en-US;q=0.6,en-GB;q=0.5,it;q=0.4',\n",
    "        'Referer': 'https://www.sec.gov/data-research/sec-markets-data/financial-statement-data-sets',\n",
    "        'User-Agent': 'Mozilla/5.0 (Windows NT 10.0; Win64; x64) AppleWebKit/537.36 (KHTML, like Gecko) Chrome/133.0.0.0 Safari/537.36 Edg/133.0.0.0'\n",
    "    }\n",
    "\n",
    "    # Send a GET request to the URL with headers\n",
    "    response = requests.get(url, headers=headers)\n",
    "\n",
    "    if response.status_code == 200: # 200 is HTTP code for success\n",
    "        with open(output_path, 'wb') as file: # Write the content of the response to a file\n",
    "            file.write(response.content)\n",
    "        print(f\"File downloaded successfully and saved as {output_path}\")\n",
    "    else: # HTTP response code 3xx, 4xx means error\n",
    "        print(f\"Failed to download file. Status code: {response.status_code}. Check headers and/or add cookies!\")\n",
    "\n",
    "\n",
    "    #-----------------Extract the zip file----------------------------------------------------\n",
    "    if response.status_code == 200:\n",
    "        if not os.path.exists(folder): # Create new directory if it doesn't exist\n",
    "            os.makedirs(folder)\n",
    "\n",
    "        with ZipFile(output_path, 'r') as zip_ref: # Open the zip file in read mode\n",
    "            zip_ref.extractall(folder)\n",
    "\n",
    "        print(f'Files extracted to: {folder}')\n",
    "\n",
    "print('Loading data...')\n",
    "sub = pd.read_csv(folder+'/sub.txt',delimiter='\\t')\n",
    "tag = pd.read_csv(folder+'/tag.txt',delimiter='\\t')\n",
    "num = pd.read_csv(folder+'/num.txt',delimiter='\\t')\n",
    "pre = pd.read_csv(folder+'/pre.txt',delimiter='\\t')\n",
    "print('Done')"
   ]
  },
  {
   "cell_type": "markdown",
   "metadata": {},
   "source": [
    "Select __Company__ and __Statement type__ here:"
   ]
  },
  {
   "cell_type": "code",
   "execution_count": 4,
   "metadata": {},
   "outputs": [
    {
     "data": {
      "application/vnd.jupyter.widget-view+json": {
       "model_id": "95175eaf682344a4a92e4f0505f9196b",
       "version_major": 2,
       "version_minor": 0
      },
      "text/plain": [
       "Dropdown(description='Company:', layout=Layout(height='50px', width='400px'), options=('1 800 FLOWERS COM INC'…"
      ]
     },
     "metadata": {},
     "output_type": "display_data"
    },
    {
     "data": {
      "application/vnd.jupyter.widget-view+json": {
       "model_id": "64bb658e27ef48db992e46c1b9e596b1",
       "version_major": 2,
       "version_minor": 0
      },
      "text/plain": [
       "Dropdown(description='Statement:', layout=Layout(height='50px', width='400px'), options=('Balance Sheet', 'Inc…"
      ]
     },
     "metadata": {},
     "output_type": "display_data"
    }
   ],
   "source": [
    "# COMPANIES AND REPORT SELECTION\n",
    "sub_name = sub['name'].sort_values()\n",
    "sub_name = sub_name.drop_duplicates(keep='first') # list of all companies (only the first appearence)\n",
    "Comp_dropdown = widgets.Dropdown(\n",
    "    options=sub_name.tolist(),\n",
    "    description='Company:',\n",
    "    layout=widgets.Layout(width='400px', height='50px')\n",
    ")\n",
    "\n",
    "report_df = pd.DataFrame({  'Balance Sheet': ['BS'], 'Income Statement': ['IS'], \n",
    "                            'Cash Flows': ['CF'], 'Equity': ['EQ'],\n",
    "                            'Comprehensive Income': ['CI'], 'Unclassifiable Statement': ['UN']})\n",
    "                            \n",
    "report_dropdown = widgets.Dropdown(\n",
    "    options=report_df.keys().to_list(),\n",
    "    description='Statement:',\n",
    "    layout=widgets.Layout(width='400px', height='50px')\n",
    ")\n",
    "\n",
    "# Display the dropdown widget\n",
    "display(Comp_dropdown, report_dropdown)\n",
    "\n",
    "# del(sub_name)\n"
   ]
  },
  {
   "cell_type": "code",
   "execution_count": 10,
   "metadata": {},
   "outputs": [
    {
     "name": "stdout",
     "output_type": "stream",
     "text": [
      "\n",
      "Company: MICROSOFT CORP \n",
      "-> CIK: 789019; \n",
      "-> From: US, WA, REDMOND\n",
      "\n",
      "Table 1: Data of the Equity statement, ordered by uom, date and tag (respectively):\n"
     ]
    },
    {
     "data": {
      "application/vnd.microsoft.datawrangler.viewer.v0+json": {
       "columns": [
        {
         "name": "index",
         "rawType": "int64",
         "type": "integer"
        },
        {
         "name": "ddate",
         "rawType": "object",
         "type": "string"
        },
        {
         "name": "tag",
         "rawType": "object",
         "type": "string"
        },
        {
         "name": "value",
         "rawType": "float64",
         "type": "float"
        },
        {
         "name": "uom",
         "rawType": "object",
         "type": "string"
        }
       ],
       "conversionMethod": "pd.DataFrame",
       "ref": "da0a0db3-584d-4f48-9e14-0668b4436d04",
       "rows": [
        [
         "0",
         "2023-06-30",
         "AdjustmentsToAdditionalPaidInCapitalSharebasedCompensationRequisiteServicePeriodRecognitionValue",
         "9611000000.0",
         "USD"
        ],
        [
         "1",
         "2023-09-30",
         "AdjustmentsToAdditionalPaidInCapitalSharebasedCompensationRequisiteServicePeriodRecognitionValue",
         "2507000000.0",
         "USD"
        ],
        [
         "2",
         "2024-09-30",
         "AdjustmentsToAdditionalPaidInCapitalSharebasedCompensationRequisiteServicePeriodRecognitionValue",
         "2832000000.0",
         "USD"
        ],
        [
         "3",
         "2024-06-30",
         "AdjustmentsToAdditionalPaidInCapitalSharebasedCompensationRequisiteServicePeriodRecognitionValue",
         "10734000000.0",
         "USD"
        ],
        [
         "4",
         "2022-06-30",
         "AdjustmentsToAdditionalPaidInCapitalSharebasedCompensationRequisiteServicePeriodRecognitionValue",
         "7502000000.0",
         "USD"
        ],
        [
         "5",
         "2023-12-31",
         "CommonStockDividendsPerShareDeclared",
         "0.75",
         "USD"
        ],
        [
         "6",
         "2023-06-30",
         "CommonStockDividendsPerShareDeclared",
         "2.72",
         "USD"
        ],
        [
         "7",
         "2024-03-31",
         "CommonStockDividendsPerShareDeclared",
         "0.75",
         "USD"
        ],
        [
         "8",
         "2024-06-30",
         "CommonStockDividendsPerShareDeclared",
         "3.0",
         "USD"
        ],
        [
         "9",
         "2024-06-30",
         "CommonStockDividendsPerShareDeclared",
         "0.75",
         "USD"
        ],
        [
         "10",
         "2022-09-30",
         "CommonStockDividendsPerShareDeclared",
         "0.68",
         "USD"
        ],
        [
         "11",
         "2023-09-30",
         "CommonStockDividendsPerShareDeclared",
         "0.75",
         "USD"
        ],
        [
         "12",
         "2022-12-31",
         "CommonStockDividendsPerShareDeclared",
         "0.68",
         "USD"
        ],
        [
         "13",
         "2022-06-30",
         "CommonStockDividendsPerShareDeclared",
         "2.48",
         "USD"
        ],
        [
         "14",
         "2023-09-30",
         "CommonStockDividendsPerShareDeclared",
         "0.75",
         "USD"
        ],
        [
         "15",
         "2023-03-31",
         "CommonStockDividendsPerShareDeclared",
         "0.68",
         "USD"
        ],
        [
         "16",
         "2024-09-30",
         "CommonStockDividendsPerShareDeclared",
         "0.83",
         "USD"
        ],
        [
         "17",
         "2023-06-30",
         "CommonStockDividendsPerShareDeclared",
         "0.68",
         "USD"
        ],
        [
         "18",
         "2022-12-31",
         "DividendsCommonStockCash",
         "5059000000.0",
         "USD"
        ],
        [
         "19",
         "2022-09-30",
         "DividendsCommonStockCash",
         "5066000000.0",
         "USD"
        ],
        [
         "20",
         "2023-03-31",
         "DividendsCommonStockCash",
         "5054000000.0",
         "USD"
        ],
        [
         "21",
         "2023-09-30",
         "DividendsCommonStockCash",
         "5571000000.0",
         "USD"
        ],
        [
         "22",
         "2023-09-30",
         "DividendsCommonStockCash",
         "5574000000.0",
         "USD"
        ],
        [
         "23",
         "2023-09-30",
         "DividendsCommonStockCash",
         "5574000000.0",
         "USD"
        ],
        [
         "24",
         "2023-06-30",
         "DividendsCommonStockCash",
         "5051000000.0",
         "USD"
        ],
        [
         "25",
         "2023-06-30",
         "DividendsCommonStockCash",
         "20230000000.0",
         "USD"
        ],
        [
         "26",
         "2024-09-30",
         "DividendsCommonStockCash",
         "6172000000.0",
         "USD"
        ],
        [
         "27",
         "2024-09-30",
         "DividendsCommonStockCash",
         "6171000000.0",
         "USD"
        ],
        [
         "28",
         "2023-12-31",
         "DividendsCommonStockCash",
         "5573000000.0",
         "USD"
        ],
        [
         "29",
         "2024-03-31",
         "DividendsCommonStockCash",
         "5574000000.0",
         "USD"
        ],
        [
         "30",
         "2024-06-30",
         "DividendsCommonStockCash",
         "22293000000.0",
         "USD"
        ],
        [
         "31",
         "2024-06-30",
         "DividendsCommonStockCash",
         "5575000000.0",
         "USD"
        ],
        [
         "32",
         "2023-06-30",
         "DividendsCommonStockCash",
         "20226000000.0",
         "USD"
        ],
        [
         "33",
         "2022-06-30",
         "DividendsCommonStockCash",
         "18552000000.0",
         "USD"
        ],
        [
         "34",
         "2024-06-30",
         "DividendsCommonStockCash",
         "22296000000.0",
         "USD"
        ],
        [
         "35",
         "2023-06-30",
         "NetIncomeLoss",
         "72361000000.0",
         "USD"
        ],
        [
         "36",
         "2024-09-30",
         "NetIncomeLoss",
         "24667000000.0",
         "USD"
        ],
        [
         "37",
         "2024-06-30",
         "NetIncomeLoss",
         "88136000000.0",
         "USD"
        ],
        [
         "38",
         "2022-06-30",
         "NetIncomeLoss",
         "72738000000.0",
         "USD"
        ],
        [
         "39",
         "2022-06-30",
         "NetIncomeLoss",
         "72738000000.0",
         "USD"
        ],
        [
         "40",
         "2023-06-30",
         "NetIncomeLoss",
         "72361000000.0",
         "USD"
        ],
        [
         "41",
         "2023-09-30",
         "NetIncomeLoss",
         "22291000000.0",
         "USD"
        ],
        [
         "42",
         "2024-09-30",
         "NetIncomeLoss",
         "24667000000.0",
         "USD"
        ],
        [
         "43",
         "2024-06-30",
         "NetIncomeLoss",
         "88136000000.0",
         "USD"
        ],
        [
         "44",
         "2023-09-30",
         "NetIncomeLoss",
         "22291000000.0",
         "USD"
        ],
        [
         "45",
         "2023-09-30",
         "OtherComprehensiveIncomeLossNetOfTaxPortionAttributableToParent",
         "-260000000.0",
         "USD"
        ],
        [
         "46",
         "2023-09-30",
         "OtherComprehensiveIncomeLossNetOfTaxPortionAttributableToParent",
         "-355000000.0",
         "USD"
        ],
        [
         "47",
         "2023-09-30",
         "OtherComprehensiveIncomeLossNetOfTaxPortionAttributableToParent",
         "-594000000.0",
         "USD"
        ],
        [
         "48",
         "2023-09-30",
         "OtherComprehensiveIncomeLossNetOfTaxPortionAttributableToParent",
         "-594000000.0",
         "USD"
        ],
        [
         "49",
         "2024-06-30",
         "OtherComprehensiveIncomeLossNetOfTaxPortionAttributableToParent",
         "957000000.0",
         "USD"
        ]
       ],
       "shape": {
        "columns": 4,
        "rows": 161
       }
      },
      "text/html": [
       "<div>\n",
       "<style scoped>\n",
       "    .dataframe tbody tr th:only-of-type {\n",
       "        vertical-align: middle;\n",
       "    }\n",
       "\n",
       "    .dataframe tbody tr th {\n",
       "        vertical-align: top;\n",
       "    }\n",
       "\n",
       "    .dataframe thead th {\n",
       "        text-align: right;\n",
       "    }\n",
       "</style>\n",
       "<table border=\"1\" class=\"dataframe\">\n",
       "  <thead>\n",
       "    <tr style=\"text-align: right;\">\n",
       "      <th></th>\n",
       "      <th>ddate</th>\n",
       "      <th>tag</th>\n",
       "      <th>value</th>\n",
       "      <th>uom</th>\n",
       "    </tr>\n",
       "  </thead>\n",
       "  <tbody>\n",
       "    <tr>\n",
       "      <th>0</th>\n",
       "      <td>2023-06-30</td>\n",
       "      <td>AdjustmentsToAdditionalPaidInCapitalSharebased...</td>\n",
       "      <td>9.611000e+09</td>\n",
       "      <td>USD</td>\n",
       "    </tr>\n",
       "    <tr>\n",
       "      <th>1</th>\n",
       "      <td>2023-09-30</td>\n",
       "      <td>AdjustmentsToAdditionalPaidInCapitalSharebased...</td>\n",
       "      <td>2.507000e+09</td>\n",
       "      <td>USD</td>\n",
       "    </tr>\n",
       "    <tr>\n",
       "      <th>2</th>\n",
       "      <td>2024-09-30</td>\n",
       "      <td>AdjustmentsToAdditionalPaidInCapitalSharebased...</td>\n",
       "      <td>2.832000e+09</td>\n",
       "      <td>USD</td>\n",
       "    </tr>\n",
       "    <tr>\n",
       "      <th>3</th>\n",
       "      <td>2024-06-30</td>\n",
       "      <td>AdjustmentsToAdditionalPaidInCapitalSharebased...</td>\n",
       "      <td>1.073400e+10</td>\n",
       "      <td>USD</td>\n",
       "    </tr>\n",
       "    <tr>\n",
       "      <th>4</th>\n",
       "      <td>2022-06-30</td>\n",
       "      <td>AdjustmentsToAdditionalPaidInCapitalSharebased...</td>\n",
       "      <td>7.502000e+09</td>\n",
       "      <td>USD</td>\n",
       "    </tr>\n",
       "    <tr>\n",
       "      <th>...</th>\n",
       "      <td>...</td>\n",
       "      <td>...</td>\n",
       "      <td>...</td>\n",
       "      <td>...</td>\n",
       "    </tr>\n",
       "    <tr>\n",
       "      <th>156</th>\n",
       "      <td>2023-09-30</td>\n",
       "      <td>StockholdersEquityOther</td>\n",
       "      <td>1.000000e+06</td>\n",
       "      <td>USD</td>\n",
       "    </tr>\n",
       "    <tr>\n",
       "      <th>157</th>\n",
       "      <td>2022-06-30</td>\n",
       "      <td>StockholdersEquityOther</td>\n",
       "      <td>-1.730000e+08</td>\n",
       "      <td>USD</td>\n",
       "    </tr>\n",
       "    <tr>\n",
       "      <th>158</th>\n",
       "      <td>2024-06-30</td>\n",
       "      <td>StockholdersEquityOther</td>\n",
       "      <td>-1.810000e+08</td>\n",
       "      <td>USD</td>\n",
       "    </tr>\n",
       "    <tr>\n",
       "      <th>159</th>\n",
       "      <td>2023-06-30</td>\n",
       "      <td>StockholdersEquityOther</td>\n",
       "      <td>2.000000e+06</td>\n",
       "      <td>USD</td>\n",
       "    </tr>\n",
       "    <tr>\n",
       "      <th>160</th>\n",
       "      <td>2024-09-30</td>\n",
       "      <td>StockholdersEquityOther</td>\n",
       "      <td>0.000000e+00</td>\n",
       "      <td>USD</td>\n",
       "    </tr>\n",
       "  </tbody>\n",
       "</table>\n",
       "<p>161 rows × 4 columns</p>\n",
       "</div>"
      ],
      "text/plain": [
       "          ddate                                                tag  \\\n",
       "0    2023-06-30  AdjustmentsToAdditionalPaidInCapitalSharebased...   \n",
       "1    2023-09-30  AdjustmentsToAdditionalPaidInCapitalSharebased...   \n",
       "2    2024-09-30  AdjustmentsToAdditionalPaidInCapitalSharebased...   \n",
       "3    2024-06-30  AdjustmentsToAdditionalPaidInCapitalSharebased...   \n",
       "4    2022-06-30  AdjustmentsToAdditionalPaidInCapitalSharebased...   \n",
       "..          ...                                                ...   \n",
       "156  2023-09-30                            StockholdersEquityOther   \n",
       "157  2022-06-30                            StockholdersEquityOther   \n",
       "158  2024-06-30                            StockholdersEquityOther   \n",
       "159  2023-06-30                            StockholdersEquityOther   \n",
       "160  2024-09-30                            StockholdersEquityOther   \n",
       "\n",
       "            value  uom  \n",
       "0    9.611000e+09  USD  \n",
       "1    2.507000e+09  USD  \n",
       "2    2.832000e+09  USD  \n",
       "3    1.073400e+10  USD  \n",
       "4    7.502000e+09  USD  \n",
       "..            ...  ...  \n",
       "156  1.000000e+06  USD  \n",
       "157 -1.730000e+08  USD  \n",
       "158 -1.810000e+08  USD  \n",
       "159  2.000000e+06  USD  \n",
       "160  0.000000e+00  USD  \n",
       "\n",
       "[161 rows x 4 columns]"
      ]
     },
     "metadata": {},
     "output_type": "display_data"
    },
    {
     "name": "stdout",
     "output_type": "stream",
     "text": [
      "\n",
      "Table 2: Total of each plabel (tag) Equity statement (also sorted by uom):\n"
     ]
    },
    {
     "data": {
      "application/vnd.microsoft.datawrangler.viewer.v0+json": {
       "columns": [
        {
         "name": "index",
         "rawType": "int64",
         "type": "integer"
        },
        {
         "name": "tag",
         "rawType": "object",
         "type": "string"
        },
        {
         "name": "plabel",
         "rawType": "object",
         "type": "string"
        },
        {
         "name": "uom",
         "rawType": "object",
         "type": "string"
        },
        {
         "name": "Total Value",
         "rawType": "float64",
         "type": "float"
        },
        {
         "name": "2021-06-30",
         "rawType": "float64",
         "type": "float"
        },
        {
         "name": "2021-09-30",
         "rawType": "float64",
         "type": "float"
        },
        {
         "name": "2021-12-31",
         "rawType": "float64",
         "type": "float"
        },
        {
         "name": "2022-03-31",
         "rawType": "float64",
         "type": "float"
        },
        {
         "name": "2022-06-30",
         "rawType": "float64",
         "type": "float"
        },
        {
         "name": "2022-09-30",
         "rawType": "float64",
         "type": "float"
        },
        {
         "name": "2022-12-31",
         "rawType": "float64",
         "type": "float"
        },
        {
         "name": "2023-03-31",
         "rawType": "float64",
         "type": "float"
        },
        {
         "name": "2023-06-30",
         "rawType": "float64",
         "type": "float"
        },
        {
         "name": "2023-09-30",
         "rawType": "float64",
         "type": "float"
        },
        {
         "name": "2023-12-31",
         "rawType": "float64",
         "type": "float"
        },
        {
         "name": "2024-03-31",
         "rawType": "float64",
         "type": "float"
        },
        {
         "name": "2024-06-30",
         "rawType": "float64",
         "type": "float"
        },
        {
         "name": "2024-09-30",
         "rawType": "float64",
         "type": "float"
        }
       ],
       "conversionMethod": "pd.DataFrame",
       "ref": "d7aa084e-af98-4b9a-bfd7-d5136d2c5af1",
       "rows": [
        [
         "0",
         "AdjustmentsToAdditionalPaidInCapitalSharebasedCompensationRequisiteServicePeriodRecognitionValue",
         "Stock-based compensation expense",
         "USD",
         "33186000000.0",
         null,
         null,
         null,
         null,
         "7502000000.0",
         null,
         null,
         null,
         "9611000000.0",
         "2507000000.0",
         null,
         null,
         "10734000000.0",
         "2832000000.0"
        ],
        [
         "1",
         "CommonStockDividendsPerShareDeclared",
         "Cash dividends declared per common share",
         "USD",
         "15.5",
         null,
         null,
         null,
         null,
         "2.48",
         "0.68",
         "0.68",
         "0.68",
         "3.4000000000000004",
         "1.5",
         "0.75",
         "0.75",
         "3.75",
         "0.83"
        ],
        [
         "2",
         "DividendsCommonStockCash",
         "Common stock cash dividends",
         "USD",
         "169611000000.0",
         null,
         null,
         null,
         null,
         "18552000000.0",
         "5066000000.0",
         "5059000000.0",
         "5054000000.0",
         "45507000000.0",
         "16719000000.0",
         "5573000000.0",
         "5574000000.0",
         "50164000000.0",
         "12343000000.0"
        ],
        [
         "3",
         "NetIncomeLoss",
         "Net income",
         "USD",
         "560386000000.0",
         null,
         null,
         null,
         null,
         "145476000000.0",
         null,
         null,
         null,
         "144722000000.0",
         "44582000000.0",
         null,
         null,
         "176272000000.0",
         "49334000000.0"
        ],
        [
         "4",
         "OtherComprehensiveIncomeLossNetOfTaxPortionAttributableToParent",
         "Other comprehensive income (loss)",
         "USD",
         "-19794000000.0",
         null,
         null,
         null,
         null,
         "-19500000000.0",
         null,
         null,
         null,
         "-4995000000.0",
         "-1782000000.0",
         null,
         null,
         "2259000000.0",
         "4224000000.0"
        ],
        [
         "5",
         "StockIssuedDuringPeriodValueNewIssues",
         "Common stock issued",
         "USD",
         "7100000000.0",
         null,
         null,
         null,
         null,
         "1841000000.0",
         null,
         null,
         null,
         "1866000000.0",
         "685000000.0",
         null,
         null,
         "2002000000.0",
         "706000000.0"
        ],
        [
         "6",
         "StockRepurchasedDuringPeriodValue",
         "Common stock repurchased",
         "USD",
         "204339000000.0",
         null,
         "6200000000.0",
         "6233000000.0",
         "7800000000.0",
         "68481000000.0",
         "4600000000.0",
         "4600000000.0",
         "4600000000.0",
         "45264000000.0",
         "11946000000.0",
         "2800000000.0",
         "2800000000.0",
         "32019000000.0",
         "6996000000.0"
        ],
        [
         "7",
         "StockholdersEquity",
         "Balance, beginning of period",
         "USD",
         "3002872000000.0",
         "143810000000.0",
         null,
         null,
         null,
         "328406000000.0",
         null,
         null,
         null,
         "605983000000.0",
         "434491000000.0",
         null,
         null,
         "1062728000000.0",
         "571264000000.0"
        ],
        [
         "8",
         "StockholdersEquity",
         "Balance, end of period",
         "USD",
         "3002872000000.0",
         "143810000000.0",
         null,
         null,
         null,
         "328406000000.0",
         null,
         null,
         null,
         "605983000000.0",
         "434491000000.0",
         null,
         null,
         "1062728000000.0",
         "571264000000.0"
        ],
        [
         "9",
         "StockholdersEquityOther",
         "Other, net",
         "USD",
         "-351000000.0",
         null,
         null,
         null,
         null,
         "-173000000.0",
         null,
         null,
         null,
         "2000000.0",
         "1000000.0",
         null,
         null,
         "-181000000.0",
         "0.0"
        ]
       ],
       "shape": {
        "columns": 18,
        "rows": 10
       }
      },
      "text/html": [
       "<div>\n",
       "<style scoped>\n",
       "    .dataframe tbody tr th:only-of-type {\n",
       "        vertical-align: middle;\n",
       "    }\n",
       "\n",
       "    .dataframe tbody tr th {\n",
       "        vertical-align: top;\n",
       "    }\n",
       "\n",
       "    .dataframe thead th {\n",
       "        text-align: right;\n",
       "    }\n",
       "</style>\n",
       "<table border=\"1\" class=\"dataframe\">\n",
       "  <thead>\n",
       "    <tr style=\"text-align: right;\">\n",
       "      <th>ddate</th>\n",
       "      <th>tag</th>\n",
       "      <th>plabel</th>\n",
       "      <th>uom</th>\n",
       "      <th>Total Value</th>\n",
       "      <th>2021-06-30</th>\n",
       "      <th>2021-09-30</th>\n",
       "      <th>2021-12-31</th>\n",
       "      <th>2022-03-31</th>\n",
       "      <th>2022-06-30</th>\n",
       "      <th>2022-09-30</th>\n",
       "      <th>2022-12-31</th>\n",
       "      <th>2023-03-31</th>\n",
       "      <th>2023-06-30</th>\n",
       "      <th>2023-09-30</th>\n",
       "      <th>2023-12-31</th>\n",
       "      <th>2024-03-31</th>\n",
       "      <th>2024-06-30</th>\n",
       "      <th>2024-09-30</th>\n",
       "    </tr>\n",
       "  </thead>\n",
       "  <tbody>\n",
       "    <tr>\n",
       "      <th>0</th>\n",
       "      <td>AdjustmentsToAdditionalPaidInCapitalSharebased...</td>\n",
       "      <td>Stock-based compensation expense</td>\n",
       "      <td>USD</td>\n",
       "      <td>3.318600e+10</td>\n",
       "      <td>NaN</td>\n",
       "      <td>NaN</td>\n",
       "      <td>NaN</td>\n",
       "      <td>NaN</td>\n",
       "      <td>7.502000e+09</td>\n",
       "      <td>NaN</td>\n",
       "      <td>NaN</td>\n",
       "      <td>NaN</td>\n",
       "      <td>9.611000e+09</td>\n",
       "      <td>2.507000e+09</td>\n",
       "      <td>NaN</td>\n",
       "      <td>NaN</td>\n",
       "      <td>1.073400e+10</td>\n",
       "      <td>2.832000e+09</td>\n",
       "    </tr>\n",
       "    <tr>\n",
       "      <th>1</th>\n",
       "      <td>CommonStockDividendsPerShareDeclared</td>\n",
       "      <td>Cash dividends declared per common share</td>\n",
       "      <td>USD</td>\n",
       "      <td>1.550000e+01</td>\n",
       "      <td>NaN</td>\n",
       "      <td>NaN</td>\n",
       "      <td>NaN</td>\n",
       "      <td>NaN</td>\n",
       "      <td>2.480000e+00</td>\n",
       "      <td>6.800000e-01</td>\n",
       "      <td>6.800000e-01</td>\n",
       "      <td>6.800000e-01</td>\n",
       "      <td>3.400000e+00</td>\n",
       "      <td>1.500000e+00</td>\n",
       "      <td>7.500000e-01</td>\n",
       "      <td>7.500000e-01</td>\n",
       "      <td>3.750000e+00</td>\n",
       "      <td>8.300000e-01</td>\n",
       "    </tr>\n",
       "    <tr>\n",
       "      <th>2</th>\n",
       "      <td>DividendsCommonStockCash</td>\n",
       "      <td>Common stock cash dividends</td>\n",
       "      <td>USD</td>\n",
       "      <td>1.696110e+11</td>\n",
       "      <td>NaN</td>\n",
       "      <td>NaN</td>\n",
       "      <td>NaN</td>\n",
       "      <td>NaN</td>\n",
       "      <td>1.855200e+10</td>\n",
       "      <td>5.066000e+09</td>\n",
       "      <td>5.059000e+09</td>\n",
       "      <td>5.054000e+09</td>\n",
       "      <td>4.550700e+10</td>\n",
       "      <td>1.671900e+10</td>\n",
       "      <td>5.573000e+09</td>\n",
       "      <td>5.574000e+09</td>\n",
       "      <td>5.016400e+10</td>\n",
       "      <td>1.234300e+10</td>\n",
       "    </tr>\n",
       "    <tr>\n",
       "      <th>3</th>\n",
       "      <td>NetIncomeLoss</td>\n",
       "      <td>Net income</td>\n",
       "      <td>USD</td>\n",
       "      <td>5.603860e+11</td>\n",
       "      <td>NaN</td>\n",
       "      <td>NaN</td>\n",
       "      <td>NaN</td>\n",
       "      <td>NaN</td>\n",
       "      <td>1.454760e+11</td>\n",
       "      <td>NaN</td>\n",
       "      <td>NaN</td>\n",
       "      <td>NaN</td>\n",
       "      <td>1.447220e+11</td>\n",
       "      <td>4.458200e+10</td>\n",
       "      <td>NaN</td>\n",
       "      <td>NaN</td>\n",
       "      <td>1.762720e+11</td>\n",
       "      <td>4.933400e+10</td>\n",
       "    </tr>\n",
       "    <tr>\n",
       "      <th>4</th>\n",
       "      <td>OtherComprehensiveIncomeLossNetOfTaxPortionAtt...</td>\n",
       "      <td>Other comprehensive income (loss)</td>\n",
       "      <td>USD</td>\n",
       "      <td>-1.979400e+10</td>\n",
       "      <td>NaN</td>\n",
       "      <td>NaN</td>\n",
       "      <td>NaN</td>\n",
       "      <td>NaN</td>\n",
       "      <td>-1.950000e+10</td>\n",
       "      <td>NaN</td>\n",
       "      <td>NaN</td>\n",
       "      <td>NaN</td>\n",
       "      <td>-4.995000e+09</td>\n",
       "      <td>-1.782000e+09</td>\n",
       "      <td>NaN</td>\n",
       "      <td>NaN</td>\n",
       "      <td>2.259000e+09</td>\n",
       "      <td>4.224000e+09</td>\n",
       "    </tr>\n",
       "    <tr>\n",
       "      <th>5</th>\n",
       "      <td>StockIssuedDuringPeriodValueNewIssues</td>\n",
       "      <td>Common stock issued</td>\n",
       "      <td>USD</td>\n",
       "      <td>7.100000e+09</td>\n",
       "      <td>NaN</td>\n",
       "      <td>NaN</td>\n",
       "      <td>NaN</td>\n",
       "      <td>NaN</td>\n",
       "      <td>1.841000e+09</td>\n",
       "      <td>NaN</td>\n",
       "      <td>NaN</td>\n",
       "      <td>NaN</td>\n",
       "      <td>1.866000e+09</td>\n",
       "      <td>6.850000e+08</td>\n",
       "      <td>NaN</td>\n",
       "      <td>NaN</td>\n",
       "      <td>2.002000e+09</td>\n",
       "      <td>7.060000e+08</td>\n",
       "    </tr>\n",
       "    <tr>\n",
       "      <th>6</th>\n",
       "      <td>StockRepurchasedDuringPeriodValue</td>\n",
       "      <td>Common stock repurchased</td>\n",
       "      <td>USD</td>\n",
       "      <td>2.043390e+11</td>\n",
       "      <td>NaN</td>\n",
       "      <td>6.200000e+09</td>\n",
       "      <td>6.233000e+09</td>\n",
       "      <td>7.800000e+09</td>\n",
       "      <td>6.848100e+10</td>\n",
       "      <td>4.600000e+09</td>\n",
       "      <td>4.600000e+09</td>\n",
       "      <td>4.600000e+09</td>\n",
       "      <td>4.526400e+10</td>\n",
       "      <td>1.194600e+10</td>\n",
       "      <td>2.800000e+09</td>\n",
       "      <td>2.800000e+09</td>\n",
       "      <td>3.201900e+10</td>\n",
       "      <td>6.996000e+09</td>\n",
       "    </tr>\n",
       "    <tr>\n",
       "      <th>7</th>\n",
       "      <td>StockholdersEquity</td>\n",
       "      <td>Balance, beginning of period</td>\n",
       "      <td>USD</td>\n",
       "      <td>3.002872e+12</td>\n",
       "      <td>1.438100e+11</td>\n",
       "      <td>NaN</td>\n",
       "      <td>NaN</td>\n",
       "      <td>NaN</td>\n",
       "      <td>3.284060e+11</td>\n",
       "      <td>NaN</td>\n",
       "      <td>NaN</td>\n",
       "      <td>NaN</td>\n",
       "      <td>6.059830e+11</td>\n",
       "      <td>4.344910e+11</td>\n",
       "      <td>NaN</td>\n",
       "      <td>NaN</td>\n",
       "      <td>1.062728e+12</td>\n",
       "      <td>5.712640e+11</td>\n",
       "    </tr>\n",
       "    <tr>\n",
       "      <th>8</th>\n",
       "      <td>StockholdersEquity</td>\n",
       "      <td>Balance, end of period</td>\n",
       "      <td>USD</td>\n",
       "      <td>3.002872e+12</td>\n",
       "      <td>1.438100e+11</td>\n",
       "      <td>NaN</td>\n",
       "      <td>NaN</td>\n",
       "      <td>NaN</td>\n",
       "      <td>3.284060e+11</td>\n",
       "      <td>NaN</td>\n",
       "      <td>NaN</td>\n",
       "      <td>NaN</td>\n",
       "      <td>6.059830e+11</td>\n",
       "      <td>4.344910e+11</td>\n",
       "      <td>NaN</td>\n",
       "      <td>NaN</td>\n",
       "      <td>1.062728e+12</td>\n",
       "      <td>5.712640e+11</td>\n",
       "    </tr>\n",
       "    <tr>\n",
       "      <th>9</th>\n",
       "      <td>StockholdersEquityOther</td>\n",
       "      <td>Other, net</td>\n",
       "      <td>USD</td>\n",
       "      <td>-3.510000e+08</td>\n",
       "      <td>NaN</td>\n",
       "      <td>NaN</td>\n",
       "      <td>NaN</td>\n",
       "      <td>NaN</td>\n",
       "      <td>-1.730000e+08</td>\n",
       "      <td>NaN</td>\n",
       "      <td>NaN</td>\n",
       "      <td>NaN</td>\n",
       "      <td>2.000000e+06</td>\n",
       "      <td>1.000000e+06</td>\n",
       "      <td>NaN</td>\n",
       "      <td>NaN</td>\n",
       "      <td>-1.810000e+08</td>\n",
       "      <td>0.000000e+00</td>\n",
       "    </tr>\n",
       "  </tbody>\n",
       "</table>\n",
       "</div>"
      ],
      "text/plain": [
       "ddate                                                tag  \\\n",
       "0      AdjustmentsToAdditionalPaidInCapitalSharebased...   \n",
       "1                   CommonStockDividendsPerShareDeclared   \n",
       "2                               DividendsCommonStockCash   \n",
       "3                                          NetIncomeLoss   \n",
       "4      OtherComprehensiveIncomeLossNetOfTaxPortionAtt...   \n",
       "5                  StockIssuedDuringPeriodValueNewIssues   \n",
       "6                      StockRepurchasedDuringPeriodValue   \n",
       "7                                     StockholdersEquity   \n",
       "8                                     StockholdersEquity   \n",
       "9                                StockholdersEquityOther   \n",
       "\n",
       "ddate                                    plabel  uom   Total Value  \\\n",
       "0              Stock-based compensation expense  USD  3.318600e+10   \n",
       "1      Cash dividends declared per common share  USD  1.550000e+01   \n",
       "2                   Common stock cash dividends  USD  1.696110e+11   \n",
       "3                                    Net income  USD  5.603860e+11   \n",
       "4             Other comprehensive income (loss)  USD -1.979400e+10   \n",
       "5                           Common stock issued  USD  7.100000e+09   \n",
       "6                      Common stock repurchased  USD  2.043390e+11   \n",
       "7                  Balance, beginning of period  USD  3.002872e+12   \n",
       "8                        Balance, end of period  USD  3.002872e+12   \n",
       "9                                    Other, net  USD -3.510000e+08   \n",
       "\n",
       "ddate    2021-06-30    2021-09-30    2021-12-31    2022-03-31    2022-06-30  \\\n",
       "0               NaN           NaN           NaN           NaN  7.502000e+09   \n",
       "1               NaN           NaN           NaN           NaN  2.480000e+00   \n",
       "2               NaN           NaN           NaN           NaN  1.855200e+10   \n",
       "3               NaN           NaN           NaN           NaN  1.454760e+11   \n",
       "4               NaN           NaN           NaN           NaN -1.950000e+10   \n",
       "5               NaN           NaN           NaN           NaN  1.841000e+09   \n",
       "6               NaN  6.200000e+09  6.233000e+09  7.800000e+09  6.848100e+10   \n",
       "7      1.438100e+11           NaN           NaN           NaN  3.284060e+11   \n",
       "8      1.438100e+11           NaN           NaN           NaN  3.284060e+11   \n",
       "9               NaN           NaN           NaN           NaN -1.730000e+08   \n",
       "\n",
       "ddate    2022-09-30    2022-12-31    2023-03-31    2023-06-30    2023-09-30  \\\n",
       "0               NaN           NaN           NaN  9.611000e+09  2.507000e+09   \n",
       "1      6.800000e-01  6.800000e-01  6.800000e-01  3.400000e+00  1.500000e+00   \n",
       "2      5.066000e+09  5.059000e+09  5.054000e+09  4.550700e+10  1.671900e+10   \n",
       "3               NaN           NaN           NaN  1.447220e+11  4.458200e+10   \n",
       "4               NaN           NaN           NaN -4.995000e+09 -1.782000e+09   \n",
       "5               NaN           NaN           NaN  1.866000e+09  6.850000e+08   \n",
       "6      4.600000e+09  4.600000e+09  4.600000e+09  4.526400e+10  1.194600e+10   \n",
       "7               NaN           NaN           NaN  6.059830e+11  4.344910e+11   \n",
       "8               NaN           NaN           NaN  6.059830e+11  4.344910e+11   \n",
       "9               NaN           NaN           NaN  2.000000e+06  1.000000e+06   \n",
       "\n",
       "ddate    2023-12-31    2024-03-31    2024-06-30    2024-09-30  \n",
       "0               NaN           NaN  1.073400e+10  2.832000e+09  \n",
       "1      7.500000e-01  7.500000e-01  3.750000e+00  8.300000e-01  \n",
       "2      5.573000e+09  5.574000e+09  5.016400e+10  1.234300e+10  \n",
       "3               NaN           NaN  1.762720e+11  4.933400e+10  \n",
       "4               NaN           NaN  2.259000e+09  4.224000e+09  \n",
       "5               NaN           NaN  2.002000e+09  7.060000e+08  \n",
       "6      2.800000e+09  2.800000e+09  3.201900e+10  6.996000e+09  \n",
       "7               NaN           NaN  1.062728e+12  5.712640e+11  \n",
       "8               NaN           NaN  1.062728e+12  5.712640e+11  \n",
       "9               NaN           NaN -1.810000e+08  0.000000e+00  "
      ]
     },
     "metadata": {},
     "output_type": "display_data"
    },
    {
     "data": {
      "application/vnd.jupyter.widget-view+json": {
       "model_id": "6923668cd84f454db38379060e96482a",
       "version_major": 2,
       "version_minor": 0
      },
      "text/plain": [
       "Button(description='Save Data', style=ButtonStyle())"
      ]
     },
     "metadata": {},
     "output_type": "display_data"
    }
   ],
   "source": [
    "#----------------- DATA FILTERING AND PIVOTING -----------------------------------------------------\n",
    "cik = sub[sub['name'] == Comp_dropdown.value]['cik'].values[0] # cik correspondig to user_CompName [value]\n",
    "adsh_cik = sub[sub['cik'] == cik]['adsh'] # selection of adsh values according with cik choosen\n",
    "pre_user = pre[(pre['adsh'].isin(adsh_cik)) & (pre['stmt'] == report_df[report_dropdown.value][0])] # pre filtered with user data (Company name and Report type)\n",
    "num_user = num[(num['adsh'].isin(adsh_cik)) & (num['tag'].isin(pre_user['tag']))][['adsh','ddate','tag','value','uom']] # num filtered with user data\n",
    "\n",
    "if num_user.empty:\n",
    "        print(f'\\n{Comp_dropdown.value} has no {report_dropdown.value} statement in this quarter.')\n",
    "\n",
    "else:\n",
    "        # ----------------------------------------- TABLE 1 ----------------------------------------------------------------------------------------------------------------------------------------------------------------------------------------------------\n",
    "        num_user['ddate'] = pd.to_datetime(num_user['ddate'],format='%Y%m%d').dt.strftime('%Y-%m-%d') # conversion of ddate column to date format\n",
    "        num_user = num_user.sort_values(by=['uom','ddate','tag']).reset_index(drop=True) # sorting by value type (uom) ddate and tag\n",
    "        # num_user = num_user.dropna() # removing \"Missing values\" rows\n",
    "\n",
    "        print(f'\\nCompany: {Comp_dropdown.value} \\n-> CIK: {cik}; \\n-> From: {sub[sub['cik']==cik]['countryba'].values[0]}, {sub[sub['cik']==cik]['stprba'].values[0]}, {sub[sub['cik']==cik]['cityba'].values[0]}')\n",
    "        print(f'\\nTable 1: Data of the {report_dropdown.value} statement, ordered by uom, date and tag (respectively):')\n",
    "        display(num_user[['ddate','tag','value','uom']].sort_values(by=['tag']).reset_index(drop=True))\n",
    "        # display(num_user)\n",
    "\n",
    "        # ----------------------------------------- TABLE 2 (PIVOT) ----------------------------------------------------------------------------------------------------------------------------------------------------------------------------------------------------\n",
    "        pre_num_user = pd.merge(pre_user,num_user,on=['adsh','tag']) #on the next code box is demonstrated that the merge is equivalent in this case\n",
    "        pre_num_user = pre_num_user.sort_values(by=['uom','ddate','tag']).reset_index(drop=True) # sorting by value type (uom) ddate and tag\n",
    "        pre_num_user = pre_num_user.dropna() # removing \"Missing values\" rows\n",
    "\n",
    "        table_xpto = pre_num_user.pivot_table(index=['tag','plabel','uom'], columns='ddate', values='value', aggfunc='sum') #pivots the pre_num_user table (transposes the ddate column to the 1st row); also sums all values with same label and date\n",
    "        table_xpto = table_xpto.sort_values(by=['uom','tag']).reset_index()\n",
    "        table_xpto['Total Value'] = table_xpto[table_xpto.columns[4:]].sum(axis=1) # Compute the sum of all values on the same row (axis=1), excluding first three columns, and add it as a new column\n",
    "        \n",
    "        # Reorder columns to place 'Total Value' in the 4th column\n",
    "        cols = list(table_xpto.columns) # list of columns\n",
    "        cols.insert(3, cols.pop(cols.index('Total Value'))) # Finds index of Total Value, pops it from cols, and puts it index 3\n",
    "        table_xpto = table_xpto[cols]         \n",
    "\n",
    "        print(f'\\nTable 2: Total of each plabel (tag) {report_dropdown.value} statement (also sorted by uom):')\n",
    "        display(table_xpto)\n",
    "\n",
    "\n",
    "#-------------- SAVE FILTERED DATA W/ PIVOTING (table_xpto) as Parquet file ----------------------------------\n",
    "\n",
    "def save_data(b):\n",
    "        save_dir = os.path.join(os.getcwd(), f'{Comp_dropdown.value}'+'-'+f'{report_dropdown.value}')\n",
    "        table_xpto.to_parquet(save_dir, engine='pyarrow', compression='snappy')\n",
    "        print(f'\\nTable 2 saved as Parquet file at: {save_dir}')\n",
    "\n",
    "save_button = widgets.Button(description=\"Save Data\") \n",
    "save_button.on_click(save_data)\n",
    "display(save_button)\n"
   ]
  },
  {
   "cell_type": "code",
   "execution_count": null,
   "metadata": {},
   "outputs": [],
   "source": [
    "\n",
    "#--------------- PROOF THAT THE FOUR MERGES ARE EQUAL AFTER FILTERING -------------------------\n",
    "# pre_num_user2 = pd.merge(pre_user,num_user)\n",
    "# pre_num_user3 = pd.merge(pre_user,num_user, on=['adsh','tag'],how='left')\n",
    "# pre_num_user4 = pd.merge(pre_user,num_user, on=['adsh','tag'],how='right')\n",
    "# pre_num_user_list = [pre_num_user, pre_num_user2, pre_num_user3, pre_num_user4]\n",
    "# for i in range(4):\n",
    "#     pre_num_user_list[i] = pre_num_user_list[i].sort_values(by=['uom','ddate','tag']).reset_index(drop=True)\n",
    "# i=0\n",
    "# l=[]\n",
    "# for data in pre_num_user_list:\n",
    "#     i+=1\n",
    "#     for data_comp in pre_num_user_list[i:]:\n",
    "#         l.append(data.equals(data_comp))\n",
    "# print(l)"
   ]
  },
  {
   "cell_type": "markdown",
   "metadata": {},
   "source": [
    "Choose __uom__ and __tag__ to plot data from __Table 2__ (only it is ploted data with at least 2 points):"
   ]
  },
  {
   "cell_type": "code",
   "execution_count": null,
   "metadata": {},
   "outputs": [
    {
     "data": {
      "application/vnd.jupyter.widget-view+json": {
       "model_id": "4d0c3842ad0e4ea78d9be8352de4918e",
       "version_major": 2,
       "version_minor": 0
      },
      "text/plain": [
       "Dropdown(description='Value type:', layout=Layout(height='50px', width='400px'), options=('USD',), value='USD'…"
      ]
     },
     "metadata": {},
     "output_type": "display_data"
    },
    {
     "data": {
      "application/vnd.jupyter.widget-view+json": {
       "model_id": "a17721743ca349a28c04a73cdd17850e",
       "version_major": 2,
       "version_minor": 0
      },
      "text/plain": [
       "Dropdown(description='Tag:', index=6, layout=Layout(height='50px', width='400px'), options=('AdjustmentsToAddi…"
      ]
     },
     "metadata": {},
     "output_type": "display_data"
    },
    {
     "data": {
      "application/vnd.jupyter.widget-view+json": {
       "model_id": "62605ca52fa7439aaa1c29afbbb99ddf",
       "version_major": 2,
       "version_minor": 0
      },
      "text/plain": [
       "Button(description='Click to Plot', style=ButtonStyle())"
      ]
     },
     "metadata": {},
     "output_type": "display_data"
    },
    {
     "data": {
      "image/png": "[encoded data removed]",
      "text/plain": [
       "<Figure size 1000x600 with 1 Axes>"
      ]
     },
     "metadata": {},
     "output_type": "display_data"
    }
   ],
   "source": [
    "# DATA SELECTION FOR PLOTTING\n",
    "uom_dropdown = widgets.Dropdown(\n",
    "    options=table_xpto['uom'].drop_duplicates(keep='first').to_list(),\n",
    "    description='Value type:',\n",
    "    layout=widgets.Layout(width='400px', height='50px')\n",
    ")\n",
    "\n",
    "tag_dropdown = widgets.Dropdown(\n",
    "    options=[],                     # !!! needs to start empty\n",
    "    description='Tag:',\n",
    "    layout=widgets.Layout(width='400px', height='50px')\n",
    ")\n",
    "\n",
    "# Function to update the tag dropdown based on the selected uom\n",
    "def update_tag(change):\n",
    "    selected_uom = change['new']\n",
    "    tag_dropdown.options = table_xpto[table_xpto['uom']==uom_dropdown.value]['tag'].drop_duplicates(keep='first')\n",
    "\n",
    "uom_dropdown.observe(update_tag, names='value')\n",
    "tag_dropdown.options = table_xpto[table_xpto['uom']==uom_dropdown.value]['tag'].drop_duplicates(keep='first') #initializes with values of first uom\n",
    "\n",
    "\n",
    "# Define the function to plot the data\n",
    "def plot_data(b):\n",
    "    clear_output(wait=True) # Clear the output of the cell\n",
    "    display(uom_dropdown, tag_dropdown, plot_button) # Display the buttons again after plotting\n",
    "\n",
    "    tag_data = table_xpto[table_xpto['tag'] == tag_dropdown.value]\n",
    "\n",
    "    dates = tag_data.columns[4:]  # Skip the first four columns\n",
    "    values = tag_data.iloc[0, 4:] # Values (also skips 1st 4 columns)\n",
    "    # print(values)\n",
    "\n",
    "    # Plot the data\n",
    "    plt.figure(figsize=(10, 6))\n",
    "    plt.plot(dates, values, marker='o', linestyle='-')\n",
    "    plt.title(f'{tag_dropdown.value}')\n",
    "    plt.xlabel('Date')\n",
    "    plt.ylabel(f'Value ({uom_dropdown.value})')\n",
    "    plt.xticks(rotation=45)\n",
    "    plt.grid(True)\n",
    "    plt.show()\n",
    "\n",
    "# Create a button widget\n",
    "plot_button = widgets.Button(description=\"Click to Plot\")\n",
    "\n",
    "# Add the function to the button's 'on_click' event\n",
    "plot_button.on_click(plot_data)\n",
    "\n",
    "display(uom_dropdown, tag_dropdown)\n",
    "display(plot_button)\n"
   ]
  }
 ],
 "metadata": {
  "kernelspec": {
   "display_name": "mein",
   "language": "python",
   "name": "python3"
  },
  "language_info": {
   "codemirror_mode": {
    "name": "ipython",
    "version": 3
   },
   "file_extension": ".py",
   "mimetype": "text/x-python",
   "name": "python",
   "nbconvert_exporter": "python",
   "pygments_lexer": "ipython3",
   "version": "3.13.2"
  }
 },
 "nbformat": 4,
 "nbformat_minor": 2
}
