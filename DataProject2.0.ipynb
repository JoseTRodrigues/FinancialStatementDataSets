{
 "cells": [
  {
   "cell_type": "markdown",
   "metadata": {},
   "source": [
    "**<h1>DATA ANALYSIS ON THE FINANCIAL STATEMENT DATA SETS</h1>**\n",
    "Using data from https://www.sec.gov/data-research/sec-markets-data/financial-statement-data-sets\n",
    "\n",
    "It extracts the choosen Statement report of a choosen Company, saving it as a parquet file (optional) and plots choosen data (optional) \n",
    "\n",
    "NB: You need to download the .zip file that you want to analyse to your directory, and change the folder variable value "
   ]
  },
  {
   "cell_type": "code",
   "execution_count": 178,
   "metadata": {},
   "outputs": [],
   "source": [
    "\n",
    "import pandas as pd\n",
    "import matplotlib.pyplot as plt\n",
    "import ipywidgets as widgets\n",
    "from IPython.display import display, clear_output\n",
    "import zipfile\n",
    "import os\n",
    "\n",
    "# import requests\n",
    "# from zipfile import ZipFile\n",
    "# from io import BytesIO"
   ]
  },
  {
   "cell_type": "code",
   "execution_count": 179,
   "metadata": {},
   "outputs": [],
   "source": [
    "\n",
    "\n",
    "# year_dropdown = widgets.Dropdown(\n",
    "#     options=[2009 + i for i in range(16)],\n",
    "#     description='Year:',\n",
    "#     layout=widgets.Layout(width='200px', height='50px')\n",
    "# )\n",
    "\n",
    "# quarter_dropdown = widgets.Dropdown(\n",
    "#     options=['q1','q2','q3','q4'],\n",
    "#     description='Quarter:',\n",
    "#     layout=widgets.Layout(width='200px', height='50px')\n",
    "# )\n",
    "\n",
    "# # Display the dropdown widget\n",
    "# display(year_dropdown, quarter_dropdown)"
   ]
  },
  {
   "cell_type": "markdown",
   "metadata": {},
   "source": [
    "(change folder variable here)"
   ]
  },
  {
   "cell_type": "code",
   "execution_count": null,
   "metadata": {},
   "outputs": [
    {
     "name": "stdout",
     "output_type": "stream",
     "text": [
      "Files extracted to: c:\\Users\\José\\OneDrive\\Ambiente de Trabalho\\FinancialDataSets\\2024q4\n"
     ]
    }
   ],
   "source": [
    "folder = '2024q4'\n",
    "\n",
    "\n",
    "# Define the path to the zip file and the extraction directory\n",
    "zip_file_path = os.path.join(os.getcwd(), folder) + '.zip'\n",
    "extraction_dir = os.path.join(os.getcwd(), folder)\n",
    "\n",
    "if not os.path.exists(extraction_dir): # Create new directory if it doesn't exist\n",
    "    os.makedirs(extraction_dir)\n",
    "\n",
    "with zipfile.ZipFile(zip_file_path, 'r') as zip_ref: # Open the zip file in read mode\n",
    "    zip_ref.extractall(extraction_dir)\n",
    "\n",
    "print(f'Files extracted to: {extraction_dir}')\n",
    "\n",
    "\n",
    "sub = pd.read_csv(folder+'/sub.txt',delimiter='\\t')\n",
    "tag = pd.read_csv(folder+'/tag.txt',delimiter='\\t')\n",
    "num = pd.read_csv(folder+'/num.txt',delimiter='\\t')\n",
    "pre = pd.read_csv(folder+'/pre.txt',delimiter='\\t')\n",
    "\n",
    "del(zip_file_path,folder)\n",
    "\n",
    "# print(f'Data: {folder}')\n",
    "\n",
    "\n",
    "#-----------Download from website--------------------\n",
    "# folder = str(year_dropdown.value) + quarter_dropdown.value # folder of the zip file choosen\n",
    "# print(folder)\n",
    "# url = 'https://www.sec.gov/files/dera/data/financial-statement-data-sets/' #url of data\n",
    "# url += folder + '.zip'\n",
    "# print(url)\n",
    "\n",
    "# response = requests.get(url) # Send a GET request to the URL\n",
    "# if response.status_code == 200:\n",
    "#     with ZipFile(BytesIO(response.content)) as zip_file: # Create a ZipFile object from the response content\n",
    "#         # Extract all contents to the current directory\n",
    "#         zip_file.extractall() # Extract all contents to the current directory\n",
    "#     print(\"Files extracted successfully\")\n",
    "# else:\n",
    "#     print(f\"Failed to download file: {response.status_code}\")\n"
   ]
  },
  {
   "cell_type": "markdown",
   "metadata": {},
   "source": [
    "Select __Company__ and __Statement type__ here:"
   ]
  },
  {
   "cell_type": "code",
   "execution_count": 202,
   "metadata": {},
   "outputs": [
    {
     "data": {
      "application/vnd.jupyter.widget-view+json": {
       "model_id": "7c0d73798b0944288328b91222286fd5",
       "version_major": 2,
       "version_minor": 0
      },
      "text/plain": [
       "Dropdown(description='Company:', layout=Layout(height='50px', width='400px'), options=('1 800 FLOWERS COM INC'…"
      ]
     },
     "metadata": {},
     "output_type": "display_data"
    },
    {
     "data": {
      "application/vnd.jupyter.widget-view+json": {
       "model_id": "40e7dce1d922449aac51565dce5386b7",
       "version_major": 2,
       "version_minor": 0
      },
      "text/plain": [
       "Dropdown(description='Statement:', layout=Layout(height='50px', width='400px'), options=('Balance Sheet', 'Inc…"
      ]
     },
     "metadata": {},
     "output_type": "display_data"
    }
   ],
   "source": [
    "\n",
    "sub_name = sub['name'].sort_values()\n",
    "sub_name = sub_name.drop_duplicates(keep='first') # list of all companies (only the first appearence)\n",
    "Comp_dropdown = widgets.Dropdown(\n",
    "    options=sub_name.tolist(),\n",
    "    description='Company:',\n",
    "    layout=widgets.Layout(width='400px', height='50px')\n",
    ")\n",
    "\n",
    "report_df = pd.DataFrame({  'Balance Sheet': ['BS'], 'Income Statement': ['IS'], \n",
    "                            'Cash Flows': ['CF'], 'Equity': ['EQ'],\n",
    "                            'Comprehensive Income': ['CI'], 'Unclassifiable Statement': ['UN']})\n",
    "report_dropdown = widgets.Dropdown(\n",
    "    options=report_df.keys().to_list(),\n",
    "    description='Statement:',\n",
    "    layout=widgets.Layout(width='400px', height='50px')\n",
    ")\n",
    "\n",
    "# Display the dropdown widget\n",
    "display(Comp_dropdown, report_dropdown)\n",
    "\n",
    "del(sub_name)\n"
   ]
  },
  {
   "cell_type": "code",
   "execution_count": 208,
   "metadata": {},
   "outputs": [
    {
     "data": {
      "application/vnd.jupyter.widget-view+json": {
       "model_id": "ee1627afb1ad4a24bbe8ebfe2a39ce65",
       "version_major": 2,
       "version_minor": 0
      },
      "text/plain": [
       "Button(description='Save Data', style=ButtonStyle())"
      ]
     },
     "metadata": {},
     "output_type": "display_data"
    },
    {
     "name": "stdout",
     "output_type": "stream",
     "text": [
      "\n",
      "Company: PULSE BIOSCIENCES, INC. \n",
      "-> CIK: 1625101; \n",
      "-> From: US, CA, HAYWARD\n",
      "\n",
      "Table 1: Data of the Income Statement statement, ordered by uom, date and tag (respectively):\n"
     ]
    },
    {
     "data": {
      "application/vnd.microsoft.datawrangler.viewer.v0+json": {
       "columns": [
        {
         "name": "index",
         "rawType": "int64",
         "type": "integer"
        },
        {
         "name": "ddate",
         "rawType": "datetime64[ns]",
         "type": "datetime"
        },
        {
         "name": "tag",
         "rawType": "object",
         "type": "string"
        },
        {
         "name": "value",
         "rawType": "float64",
         "type": "float"
        },
        {
         "name": "uom",
         "rawType": "object",
         "type": "string"
        }
       ],
       "conversionMethod": "pd.DataFrame",
       "ref": "e91044d8-6a38-4f8e-8e08-5951b4b40269",
       "rows": [
        [
         "0",
         "2023-09-30 00:00:00",
         "ComprehensiveIncomeNetOfTax",
         "-10566000.0",
         "USD"
        ],
        [
         "1",
         "2023-09-30 00:00:00",
         "ComprehensiveIncomeNetOfTax",
         "-30277000.0",
         "USD"
        ],
        [
         "2",
         "2023-09-30 00:00:00",
         "CostsAndExpenses",
         "31041000.0",
         "USD"
        ],
        [
         "3",
         "2023-09-30 00:00:00",
         "CostsAndExpenses",
         "11252000.0",
         "USD"
        ],
        [
         "4",
         "2023-09-30 00:00:00",
         "EarningsPerShareBasic",
         "-0.19",
         "USD"
        ],
        [
         "5",
         "2023-09-30 00:00:00",
         "EarningsPerShareBasic",
         "-0.64",
         "USD"
        ],
        [
         "6",
         "2023-09-30 00:00:00",
         "GeneralAndAdministrativeExpense",
         "3780000.0",
         "USD"
        ],
        [
         "7",
         "2023-09-30 00:00:00",
         "GeneralAndAdministrativeExpense",
         "11043000.0",
         "USD"
        ],
        [
         "8",
         "2023-09-30 00:00:00",
         "IncomeLossFromContinuingOperationsBeforeIncomeTaxesExtraordinaryItemsNoncontrollingInterest",
         "-30277000.0",
         "USD"
        ],
        [
         "9",
         "2023-09-30 00:00:00",
         "IncomeLossFromContinuingOperationsBeforeIncomeTaxesExtraordinaryItemsNoncontrollingInterest",
         "-10566000.0",
         "USD"
        ],
        [
         "10",
         "2023-09-30 00:00:00",
         "IncomeTaxExpenseBenefit",
         "0.0",
         "USD"
        ],
        [
         "11",
         "2023-09-30 00:00:00",
         "IncomeTaxExpenseBenefit",
         "0.0",
         "USD"
        ],
        [
         "12",
         "2023-09-30 00:00:00",
         "InterestIncomeExpenseNonoperatingNet",
         "764000.0",
         "USD"
        ],
        [
         "13",
         "2023-09-30 00:00:00",
         "InterestIncomeExpenseNonoperatingNet",
         "686000.0",
         "USD"
        ],
        [
         "14",
         "2023-09-30 00:00:00",
         "NetIncomeLoss",
         "0.0",
         "USD"
        ],
        [
         "15",
         "2023-09-30 00:00:00",
         "NetIncomeLoss",
         "-10566000.0",
         "USD"
        ],
        [
         "16",
         "2023-09-30 00:00:00",
         "NetIncomeLoss",
         "0.0",
         "USD"
        ],
        [
         "17",
         "2023-09-30 00:00:00",
         "NetIncomeLoss",
         "-30277000.0",
         "USD"
        ],
        [
         "18",
         "2023-09-30 00:00:00",
         "NetIncomeLoss",
         "-10566000.0",
         "USD"
        ],
        [
         "19",
         "2023-09-30 00:00:00",
         "NetIncomeLoss",
         "0.0",
         "USD"
        ],
        [
         "20",
         "2023-09-30 00:00:00",
         "NetIncomeLoss",
         "0.0",
         "USD"
        ],
        [
         "21",
         "2023-09-30 00:00:00",
         "NetIncomeLoss",
         "0.0",
         "USD"
        ],
        [
         "22",
         "2023-09-30 00:00:00",
         "NetIncomeLoss",
         "-30277000.0",
         "USD"
        ],
        [
         "23",
         "2023-09-30 00:00:00",
         "NetIncomeLoss",
         "0.0",
         "USD"
        ],
        [
         "24",
         "2023-09-30 00:00:00",
         "NonoperatingIncomeExpense",
         "764000.0",
         "USD"
        ],
        [
         "25",
         "2023-09-30 00:00:00",
         "NonoperatingIncomeExpense",
         "686000.0",
         "USD"
        ],
        [
         "26",
         "2023-09-30 00:00:00",
         "OperatingIncomeLoss",
         "-11252000.0",
         "USD"
        ],
        [
         "27",
         "2023-09-30 00:00:00",
         "OperatingIncomeLoss",
         "-31041000.0",
         "USD"
        ],
        [
         "28",
         "2023-09-30 00:00:00",
         "ResearchAndDevelopmentExpense",
         "7472000.0",
         "USD"
        ],
        [
         "29",
         "2023-09-30 00:00:00",
         "ResearchAndDevelopmentExpense",
         "19998000.0",
         "USD"
        ],
        [
         "30",
         "2023-09-30 00:00:00",
         "RevenueFromContractWithCustomerExcludingAssessedTax",
         "0.0",
         "USD"
        ],
        [
         "31",
         "2023-09-30 00:00:00",
         "RevenueFromContractWithCustomerExcludingAssessedTax",
         "0.0",
         "USD"
        ],
        [
         "32",
         "2024-09-30 00:00:00",
         "ComprehensiveIncomeNetOfTax",
         "-34200000.0",
         "USD"
        ],
        [
         "33",
         "2024-09-30 00:00:00",
         "ComprehensiveIncomeNetOfTax",
         "-12680000.0",
         "USD"
        ],
        [
         "34",
         "2024-09-30 00:00:00",
         "CostsAndExpenses",
         "35996000.0",
         "USD"
        ],
        [
         "35",
         "2024-09-30 00:00:00",
         "CostsAndExpenses",
         "13655000.0",
         "USD"
        ],
        [
         "36",
         "2024-09-30 00:00:00",
         "EarningsPerShareBasic",
         "-0.6",
         "USD"
        ],
        [
         "37",
         "2024-09-30 00:00:00",
         "EarningsPerShareBasic",
         "-0.21",
         "USD"
        ],
        [
         "38",
         "2024-09-30 00:00:00",
         "GeneralAndAdministrativeExpense",
         "5952000.0",
         "USD"
        ],
        [
         "39",
         "2024-09-30 00:00:00",
         "GeneralAndAdministrativeExpense",
         "14322000.0",
         "USD"
        ],
        [
         "40",
         "2024-09-30 00:00:00",
         "IncomeLossFromContinuingOperationsBeforeIncomeTaxesExtraordinaryItemsNoncontrollingInterest",
         "-12680000.0",
         "USD"
        ],
        [
         "41",
         "2024-09-30 00:00:00",
         "IncomeLossFromContinuingOperationsBeforeIncomeTaxesExtraordinaryItemsNoncontrollingInterest",
         "-34200000.0",
         "USD"
        ],
        [
         "42",
         "2024-09-30 00:00:00",
         "IncomeTaxExpenseBenefit",
         "0.0",
         "USD"
        ],
        [
         "43",
         "2024-09-30 00:00:00",
         "IncomeTaxExpenseBenefit",
         "0.0",
         "USD"
        ],
        [
         "44",
         "2024-09-30 00:00:00",
         "InterestIncomeExpenseNonoperatingNet",
         "975000.0",
         "USD"
        ],
        [
         "45",
         "2024-09-30 00:00:00",
         "InterestIncomeExpenseNonoperatingNet",
         "1796000.0",
         "USD"
        ],
        [
         "46",
         "2024-09-30 00:00:00",
         "NetIncomeLoss",
         "-12680000.0",
         "USD"
        ],
        [
         "47",
         "2024-09-30 00:00:00",
         "NetIncomeLoss",
         "0.0",
         "USD"
        ],
        [
         "48",
         "2024-09-30 00:00:00",
         "NetIncomeLoss",
         "0.0",
         "USD"
        ],
        [
         "49",
         "2024-09-30 00:00:00",
         "NetIncomeLoss",
         "0.0",
         "USD"
        ]
       ],
       "shape": {
        "columns": 4,
        "rows": 68
       }
      },
      "text/html": [
       "<div>\n",
       "<style scoped>\n",
       "    .dataframe tbody tr th:only-of-type {\n",
       "        vertical-align: middle;\n",
       "    }\n",
       "\n",
       "    .dataframe tbody tr th {\n",
       "        vertical-align: top;\n",
       "    }\n",
       "\n",
       "    .dataframe thead th {\n",
       "        text-align: right;\n",
       "    }\n",
       "</style>\n",
       "<table border=\"1\" class=\"dataframe\">\n",
       "  <thead>\n",
       "    <tr style=\"text-align: right;\">\n",
       "      <th></th>\n",
       "      <th>ddate</th>\n",
       "      <th>tag</th>\n",
       "      <th>value</th>\n",
       "      <th>uom</th>\n",
       "    </tr>\n",
       "  </thead>\n",
       "  <tbody>\n",
       "    <tr>\n",
       "      <th>0</th>\n",
       "      <td>2023-09-30</td>\n",
       "      <td>ComprehensiveIncomeNetOfTax</td>\n",
       "      <td>-10566000.00</td>\n",
       "      <td>USD</td>\n",
       "    </tr>\n",
       "    <tr>\n",
       "      <th>1</th>\n",
       "      <td>2023-09-30</td>\n",
       "      <td>ComprehensiveIncomeNetOfTax</td>\n",
       "      <td>-30277000.00</td>\n",
       "      <td>USD</td>\n",
       "    </tr>\n",
       "    <tr>\n",
       "      <th>2</th>\n",
       "      <td>2023-09-30</td>\n",
       "      <td>CostsAndExpenses</td>\n",
       "      <td>31041000.00</td>\n",
       "      <td>USD</td>\n",
       "    </tr>\n",
       "    <tr>\n",
       "      <th>3</th>\n",
       "      <td>2023-09-30</td>\n",
       "      <td>CostsAndExpenses</td>\n",
       "      <td>11252000.00</td>\n",
       "      <td>USD</td>\n",
       "    </tr>\n",
       "    <tr>\n",
       "      <th>4</th>\n",
       "      <td>2023-09-30</td>\n",
       "      <td>EarningsPerShareBasic</td>\n",
       "      <td>-0.19</td>\n",
       "      <td>USD</td>\n",
       "    </tr>\n",
       "    <tr>\n",
       "      <th>...</th>\n",
       "      <td>...</td>\n",
       "      <td>...</td>\n",
       "      <td>...</td>\n",
       "      <td>...</td>\n",
       "    </tr>\n",
       "    <tr>\n",
       "      <th>63</th>\n",
       "      <td>2024-09-30</td>\n",
       "      <td>RevenueFromContractWithCustomerExcludingAssess...</td>\n",
       "      <td>0.00</td>\n",
       "      <td>USD</td>\n",
       "    </tr>\n",
       "    <tr>\n",
       "      <th>64</th>\n",
       "      <td>2023-09-30</td>\n",
       "      <td>WeightedAverageNumberOfSharesOutstandingBasic</td>\n",
       "      <td>47288000.00</td>\n",
       "      <td>shares</td>\n",
       "    </tr>\n",
       "    <tr>\n",
       "      <th>65</th>\n",
       "      <td>2023-09-30</td>\n",
       "      <td>WeightedAverageNumberOfSharesOutstandingBasic</td>\n",
       "      <td>56866000.00</td>\n",
       "      <td>shares</td>\n",
       "    </tr>\n",
       "    <tr>\n",
       "      <th>66</th>\n",
       "      <td>2024-09-30</td>\n",
       "      <td>WeightedAverageNumberOfSharesOutstandingBasic</td>\n",
       "      <td>61066000.00</td>\n",
       "      <td>shares</td>\n",
       "    </tr>\n",
       "    <tr>\n",
       "      <th>67</th>\n",
       "      <td>2024-09-30</td>\n",
       "      <td>WeightedAverageNumberOfSharesOutstandingBasic</td>\n",
       "      <td>57169000.00</td>\n",
       "      <td>shares</td>\n",
       "    </tr>\n",
       "  </tbody>\n",
       "</table>\n",
       "<p>68 rows × 4 columns</p>\n",
       "</div>"
      ],
      "text/plain": [
       "        ddate                                                tag        value  \\\n",
       "0  2023-09-30                        ComprehensiveIncomeNetOfTax -10566000.00   \n",
       "1  2023-09-30                        ComprehensiveIncomeNetOfTax -30277000.00   \n",
       "2  2023-09-30                                   CostsAndExpenses  31041000.00   \n",
       "3  2023-09-30                                   CostsAndExpenses  11252000.00   \n",
       "4  2023-09-30                              EarningsPerShareBasic        -0.19   \n",
       "..        ...                                                ...          ...   \n",
       "63 2024-09-30  RevenueFromContractWithCustomerExcludingAssess...         0.00   \n",
       "64 2023-09-30      WeightedAverageNumberOfSharesOutstandingBasic  47288000.00   \n",
       "65 2023-09-30      WeightedAverageNumberOfSharesOutstandingBasic  56866000.00   \n",
       "66 2024-09-30      WeightedAverageNumberOfSharesOutstandingBasic  61066000.00   \n",
       "67 2024-09-30      WeightedAverageNumberOfSharesOutstandingBasic  57169000.00   \n",
       "\n",
       "       uom  \n",
       "0      USD  \n",
       "1      USD  \n",
       "2      USD  \n",
       "3      USD  \n",
       "4      USD  \n",
       "..     ...  \n",
       "63     USD  \n",
       "64  shares  \n",
       "65  shares  \n",
       "66  shares  \n",
       "67  shares  \n",
       "\n",
       "[68 rows x 4 columns]"
      ]
     },
     "metadata": {},
     "output_type": "display_data"
    },
    {
     "name": "stdout",
     "output_type": "stream",
     "text": [
      "\n",
      "Table 2: Total of each tag per date of the Income Statement statement:\n"
     ]
    },
    {
     "data": {
      "application/vnd.microsoft.datawrangler.viewer.v0+json": {
       "columns": [
        {
         "name": "index",
         "rawType": "int64",
         "type": "integer"
        },
        {
         "name": "ddate",
         "rawType": "datetime64[ns]",
         "type": "datetime"
        },
        {
         "name": "tag",
         "rawType": "object",
         "type": "string"
        },
        {
         "name": "value",
         "rawType": "float64",
         "type": "float"
        },
        {
         "name": "uom",
         "rawType": "object",
         "type": "string"
        }
       ],
       "conversionMethod": "pd.DataFrame",
       "ref": "6d5db279-120d-4138-b5f4-6fc25328da82",
       "rows": [
        [
         "0",
         "2023-09-30 00:00:00",
         "ComprehensiveIncomeNetOfTax",
         "-40843000.0",
         "USD"
        ],
        [
         "1",
         "2024-09-30 00:00:00",
         "ComprehensiveIncomeNetOfTax",
         "-46880000.0",
         "USD"
        ],
        [
         "2",
         "2023-09-30 00:00:00",
         "CostsAndExpenses",
         "42293000.0",
         "USD"
        ],
        [
         "3",
         "2024-09-30 00:00:00",
         "CostsAndExpenses",
         "49651000.0",
         "USD"
        ],
        [
         "4",
         "2023-09-30 00:00:00",
         "EarningsPerShareBasic",
         "-0.8300000000000001",
         "USD"
        ],
        [
         "5",
         "2024-09-30 00:00:00",
         "EarningsPerShareBasic",
         "-0.8099999999999999",
         "USD"
        ],
        [
         "6",
         "2023-09-30 00:00:00",
         "GeneralAndAdministrativeExpense",
         "14823000.0",
         "USD"
        ],
        [
         "7",
         "2024-09-30 00:00:00",
         "GeneralAndAdministrativeExpense",
         "20274000.0",
         "USD"
        ],
        [
         "8",
         "2023-09-30 00:00:00",
         "IncomeLossFromContinuingOperationsBeforeIncomeTaxesExtraordinaryItemsNoncontrollingInterest",
         "-40843000.0",
         "USD"
        ],
        [
         "9",
         "2024-09-30 00:00:00",
         "IncomeLossFromContinuingOperationsBeforeIncomeTaxesExtraordinaryItemsNoncontrollingInterest",
         "-46880000.0",
         "USD"
        ],
        [
         "10",
         "2023-09-30 00:00:00",
         "IncomeTaxExpenseBenefit",
         "0.0",
         "USD"
        ],
        [
         "11",
         "2024-09-30 00:00:00",
         "IncomeTaxExpenseBenefit",
         "0.0",
         "USD"
        ],
        [
         "12",
         "2023-09-30 00:00:00",
         "InterestIncomeExpenseNonoperatingNet",
         "1450000.0",
         "USD"
        ],
        [
         "13",
         "2024-09-30 00:00:00",
         "InterestIncomeExpenseNonoperatingNet",
         "2771000.0",
         "USD"
        ],
        [
         "14",
         "2023-09-30 00:00:00",
         "NetIncomeLoss",
         "-81686000.0",
         "USD"
        ],
        [
         "15",
         "2024-09-30 00:00:00",
         "NetIncomeLoss",
         "-93760000.0",
         "USD"
        ],
        [
         "16",
         "2023-09-30 00:00:00",
         "NonoperatingIncomeExpense",
         "1450000.0",
         "USD"
        ],
        [
         "17",
         "2024-09-30 00:00:00",
         "NonoperatingIncomeExpense",
         "2771000.0",
         "USD"
        ],
        [
         "18",
         "2023-09-30 00:00:00",
         "OperatingIncomeLoss",
         "-42293000.0",
         "USD"
        ],
        [
         "19",
         "2024-09-30 00:00:00",
         "OperatingIncomeLoss",
         "-49651000.0",
         "USD"
        ],
        [
         "20",
         "2023-09-30 00:00:00",
         "ResearchAndDevelopmentExpense",
         "27470000.0",
         "USD"
        ],
        [
         "21",
         "2024-09-30 00:00:00",
         "ResearchAndDevelopmentExpense",
         "29377000.0",
         "USD"
        ],
        [
         "22",
         "2023-09-30 00:00:00",
         "RevenueFromContractWithCustomerExcludingAssessedTax",
         "0.0",
         "USD"
        ],
        [
         "23",
         "2024-09-30 00:00:00",
         "RevenueFromContractWithCustomerExcludingAssessedTax",
         "0.0",
         "USD"
        ],
        [
         "24",
         "2023-09-30 00:00:00",
         "WeightedAverageNumberOfSharesOutstandingBasic",
         "104154000.0",
         "shares"
        ],
        [
         "25",
         "2024-09-30 00:00:00",
         "WeightedAverageNumberOfSharesOutstandingBasic",
         "118235000.0",
         "shares"
        ]
       ],
       "shape": {
        "columns": 4,
        "rows": 26
       }
      },
      "text/html": [
       "<div>\n",
       "<style scoped>\n",
       "    .dataframe tbody tr th:only-of-type {\n",
       "        vertical-align: middle;\n",
       "    }\n",
       "\n",
       "    .dataframe tbody tr th {\n",
       "        vertical-align: top;\n",
       "    }\n",
       "\n",
       "    .dataframe thead th {\n",
       "        text-align: right;\n",
       "    }\n",
       "</style>\n",
       "<table border=\"1\" class=\"dataframe\">\n",
       "  <thead>\n",
       "    <tr style=\"text-align: right;\">\n",
       "      <th></th>\n",
       "      <th>ddate</th>\n",
       "      <th>tag</th>\n",
       "      <th>value</th>\n",
       "      <th>uom</th>\n",
       "    </tr>\n",
       "  </thead>\n",
       "  <tbody>\n",
       "    <tr>\n",
       "      <th>0</th>\n",
       "      <td>2023-09-30</td>\n",
       "      <td>ComprehensiveIncomeNetOfTax</td>\n",
       "      <td>-4.084300e+07</td>\n",
       "      <td>USD</td>\n",
       "    </tr>\n",
       "    <tr>\n",
       "      <th>1</th>\n",
       "      <td>2024-09-30</td>\n",
       "      <td>ComprehensiveIncomeNetOfTax</td>\n",
       "      <td>-4.688000e+07</td>\n",
       "      <td>USD</td>\n",
       "    </tr>\n",
       "    <tr>\n",
       "      <th>2</th>\n",
       "      <td>2023-09-30</td>\n",
       "      <td>CostsAndExpenses</td>\n",
       "      <td>4.229300e+07</td>\n",
       "      <td>USD</td>\n",
       "    </tr>\n",
       "    <tr>\n",
       "      <th>3</th>\n",
       "      <td>2024-09-30</td>\n",
       "      <td>CostsAndExpenses</td>\n",
       "      <td>4.965100e+07</td>\n",
       "      <td>USD</td>\n",
       "    </tr>\n",
       "    <tr>\n",
       "      <th>4</th>\n",
       "      <td>2023-09-30</td>\n",
       "      <td>EarningsPerShareBasic</td>\n",
       "      <td>-8.300000e-01</td>\n",
       "      <td>USD</td>\n",
       "    </tr>\n",
       "    <tr>\n",
       "      <th>5</th>\n",
       "      <td>2024-09-30</td>\n",
       "      <td>EarningsPerShareBasic</td>\n",
       "      <td>-8.100000e-01</td>\n",
       "      <td>USD</td>\n",
       "    </tr>\n",
       "    <tr>\n",
       "      <th>6</th>\n",
       "      <td>2023-09-30</td>\n",
       "      <td>GeneralAndAdministrativeExpense</td>\n",
       "      <td>1.482300e+07</td>\n",
       "      <td>USD</td>\n",
       "    </tr>\n",
       "    <tr>\n",
       "      <th>7</th>\n",
       "      <td>2024-09-30</td>\n",
       "      <td>GeneralAndAdministrativeExpense</td>\n",
       "      <td>2.027400e+07</td>\n",
       "      <td>USD</td>\n",
       "    </tr>\n",
       "    <tr>\n",
       "      <th>8</th>\n",
       "      <td>2023-09-30</td>\n",
       "      <td>IncomeLossFromContinuingOperationsBeforeIncome...</td>\n",
       "      <td>-4.084300e+07</td>\n",
       "      <td>USD</td>\n",
       "    </tr>\n",
       "    <tr>\n",
       "      <th>9</th>\n",
       "      <td>2024-09-30</td>\n",
       "      <td>IncomeLossFromContinuingOperationsBeforeIncome...</td>\n",
       "      <td>-4.688000e+07</td>\n",
       "      <td>USD</td>\n",
       "    </tr>\n",
       "    <tr>\n",
       "      <th>10</th>\n",
       "      <td>2023-09-30</td>\n",
       "      <td>IncomeTaxExpenseBenefit</td>\n",
       "      <td>0.000000e+00</td>\n",
       "      <td>USD</td>\n",
       "    </tr>\n",
       "    <tr>\n",
       "      <th>11</th>\n",
       "      <td>2024-09-30</td>\n",
       "      <td>IncomeTaxExpenseBenefit</td>\n",
       "      <td>0.000000e+00</td>\n",
       "      <td>USD</td>\n",
       "    </tr>\n",
       "    <tr>\n",
       "      <th>12</th>\n",
       "      <td>2023-09-30</td>\n",
       "      <td>InterestIncomeExpenseNonoperatingNet</td>\n",
       "      <td>1.450000e+06</td>\n",
       "      <td>USD</td>\n",
       "    </tr>\n",
       "    <tr>\n",
       "      <th>13</th>\n",
       "      <td>2024-09-30</td>\n",
       "      <td>InterestIncomeExpenseNonoperatingNet</td>\n",
       "      <td>2.771000e+06</td>\n",
       "      <td>USD</td>\n",
       "    </tr>\n",
       "    <tr>\n",
       "      <th>14</th>\n",
       "      <td>2023-09-30</td>\n",
       "      <td>NetIncomeLoss</td>\n",
       "      <td>-8.168600e+07</td>\n",
       "      <td>USD</td>\n",
       "    </tr>\n",
       "    <tr>\n",
       "      <th>15</th>\n",
       "      <td>2024-09-30</td>\n",
       "      <td>NetIncomeLoss</td>\n",
       "      <td>-9.376000e+07</td>\n",
       "      <td>USD</td>\n",
       "    </tr>\n",
       "    <tr>\n",
       "      <th>16</th>\n",
       "      <td>2023-09-30</td>\n",
       "      <td>NonoperatingIncomeExpense</td>\n",
       "      <td>1.450000e+06</td>\n",
       "      <td>USD</td>\n",
       "    </tr>\n",
       "    <tr>\n",
       "      <th>17</th>\n",
       "      <td>2024-09-30</td>\n",
       "      <td>NonoperatingIncomeExpense</td>\n",
       "      <td>2.771000e+06</td>\n",
       "      <td>USD</td>\n",
       "    </tr>\n",
       "    <tr>\n",
       "      <th>18</th>\n",
       "      <td>2023-09-30</td>\n",
       "      <td>OperatingIncomeLoss</td>\n",
       "      <td>-4.229300e+07</td>\n",
       "      <td>USD</td>\n",
       "    </tr>\n",
       "    <tr>\n",
       "      <th>19</th>\n",
       "      <td>2024-09-30</td>\n",
       "      <td>OperatingIncomeLoss</td>\n",
       "      <td>-4.965100e+07</td>\n",
       "      <td>USD</td>\n",
       "    </tr>\n",
       "    <tr>\n",
       "      <th>20</th>\n",
       "      <td>2023-09-30</td>\n",
       "      <td>ResearchAndDevelopmentExpense</td>\n",
       "      <td>2.747000e+07</td>\n",
       "      <td>USD</td>\n",
       "    </tr>\n",
       "    <tr>\n",
       "      <th>21</th>\n",
       "      <td>2024-09-30</td>\n",
       "      <td>ResearchAndDevelopmentExpense</td>\n",
       "      <td>2.937700e+07</td>\n",
       "      <td>USD</td>\n",
       "    </tr>\n",
       "    <tr>\n",
       "      <th>22</th>\n",
       "      <td>2023-09-30</td>\n",
       "      <td>RevenueFromContractWithCustomerExcludingAssess...</td>\n",
       "      <td>0.000000e+00</td>\n",
       "      <td>USD</td>\n",
       "    </tr>\n",
       "    <tr>\n",
       "      <th>23</th>\n",
       "      <td>2024-09-30</td>\n",
       "      <td>RevenueFromContractWithCustomerExcludingAssess...</td>\n",
       "      <td>0.000000e+00</td>\n",
       "      <td>USD</td>\n",
       "    </tr>\n",
       "    <tr>\n",
       "      <th>24</th>\n",
       "      <td>2023-09-30</td>\n",
       "      <td>WeightedAverageNumberOfSharesOutstandingBasic</td>\n",
       "      <td>1.041540e+08</td>\n",
       "      <td>shares</td>\n",
       "    </tr>\n",
       "    <tr>\n",
       "      <th>25</th>\n",
       "      <td>2024-09-30</td>\n",
       "      <td>WeightedAverageNumberOfSharesOutstandingBasic</td>\n",
       "      <td>1.182350e+08</td>\n",
       "      <td>shares</td>\n",
       "    </tr>\n",
       "  </tbody>\n",
       "</table>\n",
       "</div>"
      ],
      "text/plain": [
       "        ddate                                                tag  \\\n",
       "0  2023-09-30                        ComprehensiveIncomeNetOfTax   \n",
       "1  2024-09-30                        ComprehensiveIncomeNetOfTax   \n",
       "2  2023-09-30                                   CostsAndExpenses   \n",
       "3  2024-09-30                                   CostsAndExpenses   \n",
       "4  2023-09-30                              EarningsPerShareBasic   \n",
       "5  2024-09-30                              EarningsPerShareBasic   \n",
       "6  2023-09-30                    GeneralAndAdministrativeExpense   \n",
       "7  2024-09-30                    GeneralAndAdministrativeExpense   \n",
       "8  2023-09-30  IncomeLossFromContinuingOperationsBeforeIncome...   \n",
       "9  2024-09-30  IncomeLossFromContinuingOperationsBeforeIncome...   \n",
       "10 2023-09-30                            IncomeTaxExpenseBenefit   \n",
       "11 2024-09-30                            IncomeTaxExpenseBenefit   \n",
       "12 2023-09-30               InterestIncomeExpenseNonoperatingNet   \n",
       "13 2024-09-30               InterestIncomeExpenseNonoperatingNet   \n",
       "14 2023-09-30                                      NetIncomeLoss   \n",
       "15 2024-09-30                                      NetIncomeLoss   \n",
       "16 2023-09-30                          NonoperatingIncomeExpense   \n",
       "17 2024-09-30                          NonoperatingIncomeExpense   \n",
       "18 2023-09-30                                OperatingIncomeLoss   \n",
       "19 2024-09-30                                OperatingIncomeLoss   \n",
       "20 2023-09-30                      ResearchAndDevelopmentExpense   \n",
       "21 2024-09-30                      ResearchAndDevelopmentExpense   \n",
       "22 2023-09-30  RevenueFromContractWithCustomerExcludingAssess...   \n",
       "23 2024-09-30  RevenueFromContractWithCustomerExcludingAssess...   \n",
       "24 2023-09-30      WeightedAverageNumberOfSharesOutstandingBasic   \n",
       "25 2024-09-30      WeightedAverageNumberOfSharesOutstandingBasic   \n",
       "\n",
       "           value     uom  \n",
       "0  -4.084300e+07     USD  \n",
       "1  -4.688000e+07     USD  \n",
       "2   4.229300e+07     USD  \n",
       "3   4.965100e+07     USD  \n",
       "4  -8.300000e-01     USD  \n",
       "5  -8.100000e-01     USD  \n",
       "6   1.482300e+07     USD  \n",
       "7   2.027400e+07     USD  \n",
       "8  -4.084300e+07     USD  \n",
       "9  -4.688000e+07     USD  \n",
       "10  0.000000e+00     USD  \n",
       "11  0.000000e+00     USD  \n",
       "12  1.450000e+06     USD  \n",
       "13  2.771000e+06     USD  \n",
       "14 -8.168600e+07     USD  \n",
       "15 -9.376000e+07     USD  \n",
       "16  1.450000e+06     USD  \n",
       "17  2.771000e+06     USD  \n",
       "18 -4.229300e+07     USD  \n",
       "19 -4.965100e+07     USD  \n",
       "20  2.747000e+07     USD  \n",
       "21  2.937700e+07     USD  \n",
       "22  0.000000e+00     USD  \n",
       "23  0.000000e+00     USD  \n",
       "24  1.041540e+08  shares  \n",
       "25  1.182350e+08  shares  "
      ]
     },
     "metadata": {},
     "output_type": "display_data"
    }
   ],
   "source": [
    "\n",
    "cik = sub[sub['name'] == Comp_dropdown.value]['cik'].values[0] # cik correspondig to user_CompName [value]\n",
    "adsh_cik = sub[sub['cik'] == cik]['adsh'] # selection of adsh values according with cik choosen\n",
    "pre_user = pre[(pre['adsh'].isin(adsh_cik)) & (pre['stmt'] == report_df[report_dropdown.value][0])] # pre filtered with user data (Company name and Report type)\n",
    "num_user = num[(num['adsh'].isin(adsh_cik)) & (num['tag'].isin(pre_user['tag']))][['ddate','tag','value','uom']] # num filtered with user data\n",
    "\n",
    "if num_user.empty:\n",
    "        print(f'\\n{Comp_dropdown.value} has no {report_dropdown.value} statement in this quarter.')\n",
    "else:\n",
    "        num_user['ddate'] = pd.to_datetime(num_user['ddate'],format='%Y%m%d') # conversion of ddate column to date format\n",
    "        num_user = num_user.sort_values(by=['uom','ddate','tag']).reset_index(drop=True) # sorting by value type (uom) ddate and tag\n",
    "        num_user = num_user.dropna() # removing \"Missing values\" rows\n",
    "\n",
    "        save_button = widgets.Button(description=\"Save Data\")\n",
    "        save_button.on_click(save_data)\n",
    "        display(save_button)\n",
    "\n",
    "\n",
    "        print(f'\\nCompany: {Comp_dropdown.value} \\n-> CIK: {cik}; \\n-> From: {sub[sub['cik']==cik]['countryba'].values[0]}, {sub[sub['cik']==cik]['stprba'].values[0]}, {sub[sub['cik']==cik]['cityba'].values[0]}')\n",
    "        print(f'\\nTable 1: Data of the {report_dropdown.value} statement, ordered by uom, date and tag (respectively):')\n",
    "\n",
    "        display(num_user)\n",
    "\n",
    "        num_user_total = num_user.groupby(['ddate', 'tag'], as_index=False).agg({\n",
    "                                'value': 'sum',\n",
    "                                'uom': 'first'\n",
    "                                })\n",
    "\n",
    "        # num_user_total = num_user.groupby(['uom','ddate', 'tag']).sum().reset_index()\n",
    "\n",
    "        num_user_total = num_user_total.sort_values(by=['uom','tag','ddate']).reset_index(drop=True)\n",
    "\n",
    "        print(f'\\nTable 2: Total of each tag per date of the {report_dropdown.value} statement:')\n",
    "        display(num_user_total)\n",
    "\n",
    "del(cik,adsh_cik)\n",
    "\n",
    "\n",
    "\n",
    "#-------------- SAVE FILTERED DATA (num_user) as Parquet file ----------------------------------\n",
    "\n",
    "def save_data(b):\n",
    "        save_dir = os.path.join(os.getcwd(), f'{Comp_dropdown.value}'+'-'+f'{report_dropdown.value}')\n",
    "        num_user.to_parquet(save_dir, engine='pyarrow', compression='snappy')\n",
    "        print(f'\\nTable 1 saved as Parquet file at: {save_dir}')\n",
    "        del(save_dir)\n"
   ]
  },
  {
   "cell_type": "markdown",
   "metadata": {},
   "source": [
    "Choose __uom__ and __tag__ to plot data from __Table 2__ (only it is ploted data with at least 2 points):"
   ]
  },
  {
   "cell_type": "code",
   "execution_count": 207,
   "metadata": {},
   "outputs": [
    {
     "data": {
      "application/vnd.jupyter.widget-view+json": {
       "model_id": "e23ea91181b143cfb2981a434a54d35f",
       "version_major": 2,
       "version_minor": 0
      },
      "text/plain": [
       "Dropdown(description='Value type:', layout=Layout(height='50px', width='400px'), options=('USD', 'shares'), va…"
      ]
     },
     "metadata": {},
     "output_type": "display_data"
    },
    {
     "data": {
      "application/vnd.jupyter.widget-view+json": {
       "model_id": "180bb965ddf94172b7d812918879173e",
       "version_major": 2,
       "version_minor": 0
      },
      "text/plain": [
       "Dropdown(description='Tag:', index=1, layout=Layout(height='50px', width='400px'), options=('ComprehensiveInco…"
      ]
     },
     "metadata": {},
     "output_type": "display_data"
    },
    {
     "data": {
      "application/vnd.jupyter.widget-view+json": {
       "model_id": "ca712d1f8f154df49cb164428f206b1e",
       "version_major": 2,
       "version_minor": 0
      },
      "text/plain": [
       "Button(description='Click to Plot', style=ButtonStyle())"
      ]
     },
     "metadata": {},
     "output_type": "display_data"
    },
    {
     "data": {
      "image/png": "[encoded data removed]",
      "text/plain": [
       "<Figure size 1000x600 with 1 Axes>"
      ]
     },
     "metadata": {},
     "output_type": "display_data"
    }
   ],
   "source": [
    "\n",
    "filtered_tags = num_user_total.groupby('tag').filter(lambda x: len(x) >= 2)['tag'].unique() # filter of data with at least 2 points of same tag\n",
    "num_user_plot  = num_user_total[num_user_total['tag'].isin(filtered_tags)].sort_values(by=['tag','ddate']) # filter num_user_total using filter_tags\n",
    "\n",
    "uom_dropdown = widgets.Dropdown(\n",
    "    options=num_user_plot['uom'].drop_duplicates(keep='first').to_list(),\n",
    "    description='Value type:',\n",
    "    layout=widgets.Layout(width='400px', height='50px')\n",
    ")\n",
    "\n",
    "tag_dropdown = widgets.Dropdown(\n",
    "    options=[],                     # !!! needs to start empty\n",
    "    description='Tag:',\n",
    "    layout=widgets.Layout(width='400px', height='50px')\n",
    ")\n",
    "\n",
    "# Function to update the tag dropdown based on the selected uom\n",
    "def update_tag(change):\n",
    "    selected_uom = change['new']\n",
    "    tag_dropdown.options = num_user_plot[num_user_plot['uom']==uom_dropdown.value]['tag'].drop_duplicates(keep='first')\n",
    "\n",
    "uom_dropdown.observe(update_tag, names='value')\n",
    "tag_dropdown.options = num_user_plot[num_user_plot['uom']==uom_dropdown.value]['tag'].drop_duplicates(keep='first')\n",
    "\n",
    "display(uom_dropdown, tag_dropdown)\n",
    "\n",
    "\n",
    "# Define the function to plot the data\n",
    "def plot_data(b):\n",
    "    clear_output(wait=True)  # Clear the output before displaying the new plot\n",
    "    display(uom_dropdown, tag_dropdown, plot_button) # Display the buttons again after plotting\n",
    "    plt.figure(figsize=(10, 6))\n",
    "    plt.plot(num_user_plot[(num_user_plot['tag']==tag_dropdown.value)&(num_user_plot['uom']==uom_dropdown.value)]['ddate'], \n",
    "             num_user_plot[(num_user_plot['tag']==tag_dropdown.value)&(num_user_plot['uom']==uom_dropdown.value)]['value'],\n",
    "             marker='o')\n",
    "    plt.xlabel('Date')\n",
    "    plt.ylabel(f'Value ({uom_dropdown.value})')\n",
    "    plt.title(f'{tag_dropdown.value}')\n",
    "    plt.grid(True)\n",
    "    plt.show()\n",
    "\n",
    "# Create a button widget\n",
    "plot_button = widgets.Button(description=\"Click to Plot\")\n",
    "\n",
    "# Add the function to the button's 'on_click' event\n",
    "plot_button.on_click(plot_data)\n",
    "\n",
    "display(plot_button)\n"
   ]
  }
 ],
 "metadata": {
  "kernelspec": {
   "display_name": "mein",
   "language": "python",
   "name": "python3"
  },
  "language_info": {
   "codemirror_mode": {
    "name": "ipython",
    "version": 3
   },
   "file_extension": ".py",
   "mimetype": "text/x-python",
   "name": "python",
   "nbconvert_exporter": "python",
   "pygments_lexer": "ipython3",
   "version": "3.13.2"
  }
 },
 "nbformat": 4,
 "nbformat_minor": 2
}
