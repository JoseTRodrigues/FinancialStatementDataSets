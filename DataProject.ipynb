{
 "cells": [
  {
   "cell_type": "code",
   "execution_count": 2,
   "metadata": {},
   "outputs": [],
   "source": [
    "\n",
    "import pandas as pd\n",
    "# import matplotlib.pyplot as plt\n",
    "import ipywidgets as widgets\n",
    "from IPython.display import display"
   ]
  },
  {
   "cell_type": "code",
   "execution_count": 3,
   "metadata": {},
   "outputs": [],
   "source": [
    "folder = '2009q2'\n",
    "sub = pd.read_csv(folder+'/sub.txt',delimiter='\\t')\n",
    "tag = pd.read_csv(folder+'/tag.txt',delimiter='\\t')\n",
    "num = pd.read_csv(folder+'/num.txt',delimiter='\\t')\n",
    "pre = pd.read_csv(folder+'/pre.txt',delimiter='\\t')"
   ]
  },
  {
   "cell_type": "code",
   "execution_count": 42,
   "metadata": {},
   "outputs": [
    {
     "data": {
      "application/vnd.jupyter.widget-view+json": {
       "model_id": "b68f0d432f4e4bc89327f54376e7e328",
       "version_major": 2,
       "version_minor": 0
      },
      "text/plain": [
       "Dropdown(description='Company:', layout=Layout(height='50px', width='400px'), options=('1 800 FLOWERS COM INC'…"
      ]
     },
     "metadata": {},
     "output_type": "display_data"
    }
   ],
   "source": [
    "\n",
    "# Create a dropdown widget with options from sub names\n",
    "sub_name = sub['name'].sort_values()\n",
    "sub_name = sub_name.drop_duplicates(keep='first') # list of all companies\n",
    "Comp_dropdown = widgets.Dropdown(\n",
    "    options=sub_name.tolist(),\n",
    "    description='Company:',\n",
    "    layout=widgets.Layout(width='400px', height='50px')\n",
    ")\n",
    "\n",
    "# Display the dropdown widget\n",
    "display(Comp_dropdown)\n"
   ]
  },
  {
   "cell_type": "code",
   "execution_count": null,
   "metadata": {},
   "outputs": [
    {
     "name": "stdout",
     "output_type": "stream",
     "text": [
      "Selected Company: APPLE INC -> CIK = 320193\n"
     ]
    }
   ],
   "source": [
    "\n",
    "cik = sub[sub['name'] == Comp_dropdown.value]['cik'].values[0] # cik correspondig to user_CompName [value]\n",
    "print(f'Selected Company: {Comp_dropdown.value} -> CIK = {cik}')\n",
    "\n",
    "adsh = sub[sub['cik'] == cik]['adsh'] # adsh corresponding to cik [series]\n",
    "num_value = num[num['adsh'].isin(adsh)][['ddate','tag','value','uom']] # selection of num data with chosen cik, only 4 columns\n",
    "num_value['ddate'] = pd.to_datetime(num['ddate'],format='%Y%m%d') # conversion of ddate column to date format\n",
    "num_value = num_value.sort_values(by=['uom','tag','ddate']).reset_index(drop=True) # sorting by value type (uom) tag and ddate\n",
    "# display(num_value)"
   ]
  },
  {
   "cell_type": "code",
   "execution_count": 57,
   "metadata": {},
   "outputs": [
    {
     "data": {
      "application/vnd.jupyter.widget-view+json": {
       "model_id": "a76b53eede4f406cb4f7ae2b932ae035",
       "version_major": 2,
       "version_minor": 0
      },
      "text/plain": [
       "Dropdown(description='Value type:', layout=Layout(height='50px', width='200px'), options=('USD', 'shares'), va…"
      ]
     },
     "metadata": {},
     "output_type": "display_data"
    },
    {
     "data": {
      "application/vnd.jupyter.widget-view+json": {
       "model_id": "3e85feabd69d45f1aa3a011893e51188",
       "version_major": 2,
       "version_minor": 0
      },
      "text/plain": [
       "Dropdown(description='Tag:', layout=Layout(width='300px'), options=('AccountsPayableCurrent', 'AccountsReceiva…"
      ]
     },
     "metadata": {},
     "output_type": "display_data"
    }
   ],
   "source": [
    "\n",
    "num_uom = num_value['uom']\n",
    "num_uom = num_uom.drop_duplicates(keep='first') # list of all companies\n",
    "# Create the first dropdown for companies\n",
    "uom_dropdown = widgets.Dropdown(\n",
    "    options=num_uom.tolist(),\n",
    "    description='Value type:',\n",
    "    layout=widgets.Layout(width='200px', height='50px')\n",
    ")\n",
    "\n",
    "# Create the second dropdown for departments, initially empty\n",
    "tag_dropdown = widgets.Dropdown(\n",
    "    options=[],\n",
    "    description='Tag:',\n",
    "    layout=widgets.Layout(width='300px')\n",
    ")\n",
    "\n",
    "# Define a function to update the departments dropdown based on the selected company\n",
    "def update_tag(change):\n",
    "    selected_uom = change['new']\n",
    "    tag_dropdown.options = num_value[num_value['uom'] == uom_dropdown.value]['tag'].drop_duplicates(keep='first')\n",
    "\n",
    "# Attach the change event handler to the company dropdown\n",
    "uom_dropdown.observe(update_tag, names='value')\n",
    "\n",
    "# Initialize the departments dropdown with the departments of the first company\n",
    "tag_dropdown.options = num_value[num_value['uom'] == uom_dropdown.value]['tag'].drop_duplicates(keep='first')\n",
    "\n",
    "# Display the dropdown widgets\n",
    "display(uom_dropdown, tag_dropdown)"
   ]
  },
  {
   "cell_type": "code",
   "execution_count": 8,
   "metadata": {},
   "outputs": [
    {
     "ename": "NameError",
     "evalue": "name 'num_value' is not defined",
     "output_type": "error",
     "traceback": [
      "\u001b[0;31m---------------------------------------------------------------------------\u001b[0m",
      "\u001b[0;31mNameError\u001b[0m                                 Traceback (most recent call last)",
      "Cell \u001b[0;32mIn[8], line 1\u001b[0m\n\u001b[0;32m----> 1\u001b[0m display(\u001b[43mnum_value\u001b[49m[(num_value[\u001b[38;5;124m'\u001b[39m\u001b[38;5;124muom\u001b[39m\u001b[38;5;124m'\u001b[39m] \u001b[38;5;241m==\u001b[39m uom_dropdown\u001b[38;5;241m.\u001b[39mvalue) \u001b[38;5;241m&\u001b[39m (num_value[\u001b[38;5;124m'\u001b[39m\u001b[38;5;124mtag\u001b[39m\u001b[38;5;124m'\u001b[39m] \u001b[38;5;241m==\u001b[39m tag_dropdown\u001b[38;5;241m.\u001b[39mvalue)]\u001b[38;5;241m.\u001b[39mreset_index(drop\u001b[38;5;241m=\u001b[39m\u001b[38;5;28;01mTrue\u001b[39;00m) )\n",
      "\u001b[0;31mNameError\u001b[0m: name 'num_value' is not defined"
     ]
    }
   ],
   "source": [
    "display(num_value[(num_value['uom'] == uom_dropdown.value) & (num_value['tag'] == tag_dropdown.value)].reset_index(drop=True) )"
   ]
  },
  {
   "cell_type": "code",
   "execution_count": 47,
   "metadata": {},
   "outputs": [
    {
     "data": {
      "image/png": "[encoded data removed]",
      "text/plain": [
       "<Figure size 640x480 with 1 Axes>"
      ]
     },
     "metadata": {},
     "output_type": "display_data"
    }
   ],
   "source": [
    "num_value = num[num['adsh'].isin(adsh)][['ddate','tag','value','uom']] # selection of num data with chosen cik, only 4 columns\n",
    "num_value['ddate'] = pd.to_datetime(num['ddate'],format='%Y%m%d') # conversion of ddate column to date format\n",
    "num_value = num_value.sort_values(by=['uom','ddate']).reset_index(drop=True)\n",
    "test = num_value[num_value['uom'] == 'USD']\n",
    "test.plot(x='ddate',y='value',marker='o')\n",
    "plt.show()"
   ]
  },
  {
   "cell_type": "code",
   "execution_count": 14,
   "metadata": {},
   "outputs": [
    {
     "data": {
      "text/html": [
       "<div>\n",
       "<style scoped>\n",
       "    .dataframe tbody tr th:only-of-type {\n",
       "        vertical-align: middle;\n",
       "    }\n",
       "\n",
       "    .dataframe tbody tr th {\n",
       "        vertical-align: top;\n",
       "    }\n",
       "\n",
       "    .dataframe thead th {\n",
       "        text-align: right;\n",
       "    }\n",
       "</style>\n",
       "<table border=\"1\" class=\"dataframe\">\n",
       "  <thead>\n",
       "    <tr style=\"text-align: right;\">\n",
       "      <th></th>\n",
       "      <th>adsh</th>\n",
       "      <th>report</th>\n",
       "      <th>line</th>\n",
       "      <th>stmt</th>\n",
       "      <th>inpth</th>\n",
       "      <th>rfile</th>\n",
       "      <th>tag</th>\n",
       "      <th>version</th>\n",
       "      <th>plabel</th>\n",
       "      <th>negating</th>\n",
       "    </tr>\n",
       "  </thead>\n",
       "  <tbody>\n",
       "    <tr>\n",
       "      <th>0</th>\n",
       "      <td>0000038074-09-000029</td>\n",
       "      <td>1</td>\n",
       "      <td>3</td>\n",
       "      <td>BS</td>\n",
       "      <td>0</td>\n",
       "      <td>X</td>\n",
       "      <td>CashAndCashEquivalentsAtCarryingValue</td>\n",
       "      <td>us-gaap/2008</td>\n",
       "      <td>Cash and cash equivalent investments</td>\n",
       "      <td>0</td>\n",
       "    </tr>\n",
       "    <tr>\n",
       "      <th>1</th>\n",
       "      <td>0000038074-09-000029</td>\n",
       "      <td>1</td>\n",
       "      <td>4</td>\n",
       "      <td>BS</td>\n",
       "      <td>0</td>\n",
       "      <td>X</td>\n",
       "      <td>MarketableSecuritiesCurrent</td>\n",
       "      <td>us-gaap/2008</td>\n",
       "      <td>Marketable securities</td>\n",
       "      <td>0</td>\n",
       "    </tr>\n",
       "    <tr>\n",
       "      <th>2</th>\n",
       "      <td>0000038074-09-000029</td>\n",
       "      <td>1</td>\n",
       "      <td>5</td>\n",
       "      <td>BS</td>\n",
       "      <td>0</td>\n",
       "      <td>X</td>\n",
       "      <td>AccountsReceivableNetCurrent</td>\n",
       "      <td>us-gaap/2008</td>\n",
       "      <td>Accounts receivable, net</td>\n",
       "      <td>0</td>\n",
       "    </tr>\n",
       "    <tr>\n",
       "      <th>3</th>\n",
       "      <td>0000038074-09-000029</td>\n",
       "      <td>1</td>\n",
       "      <td>6</td>\n",
       "      <td>BS</td>\n",
       "      <td>0</td>\n",
       "      <td>X</td>\n",
       "      <td>InventoryNet</td>\n",
       "      <td>us-gaap/2008</td>\n",
       "      <td>Inventories, net</td>\n",
       "      <td>0</td>\n",
       "    </tr>\n",
       "    <tr>\n",
       "      <th>4</th>\n",
       "      <td>0000038074-09-000029</td>\n",
       "      <td>1</td>\n",
       "      <td>7</td>\n",
       "      <td>BS</td>\n",
       "      <td>0</td>\n",
       "      <td>X</td>\n",
       "      <td>DeferredTaxAssetsNetCurrent</td>\n",
       "      <td>us-gaap/2008</td>\n",
       "      <td>Deferred income taxes</td>\n",
       "      <td>0</td>\n",
       "    </tr>\n",
       "    <tr>\n",
       "      <th>...</th>\n",
       "      <td>...</td>\n",
       "      <td>...</td>\n",
       "      <td>...</td>\n",
       "      <td>...</td>\n",
       "      <td>...</td>\n",
       "      <td>...</td>\n",
       "      <td>...</td>\n",
       "      <td>...</td>\n",
       "      <td>...</td>\n",
       "      <td>...</td>\n",
       "    </tr>\n",
       "    <tr>\n",
       "      <th>1923</th>\n",
       "      <td>0001193125-09-124260</td>\n",
       "      <td>3</td>\n",
       "      <td>26</td>\n",
       "      <td>CF</td>\n",
       "      <td>0</td>\n",
       "      <td>X</td>\n",
       "      <td>NetCashProvidedByUsedInFinancingActivities</td>\n",
       "      <td>us-gaap/2008</td>\n",
       "      <td>Net Cash Provided by (Used in) Financing Activ...</td>\n",
       "      <td>0</td>\n",
       "    </tr>\n",
       "    <tr>\n",
       "      <th>1924</th>\n",
       "      <td>0001193125-09-124260</td>\n",
       "      <td>3</td>\n",
       "      <td>27</td>\n",
       "      <td>CF</td>\n",
       "      <td>0</td>\n",
       "      <td>X</td>\n",
       "      <td>EffectOfExchangeRateOnCashAndCashEquivalents</td>\n",
       "      <td>us-gaap/2008</td>\n",
       "      <td>Effect of exchange rate changes on cash and ca...</td>\n",
       "      <td>0</td>\n",
       "    </tr>\n",
       "    <tr>\n",
       "      <th>1925</th>\n",
       "      <td>0001193125-09-124260</td>\n",
       "      <td>3</td>\n",
       "      <td>28</td>\n",
       "      <td>CF</td>\n",
       "      <td>0</td>\n",
       "      <td>X</td>\n",
       "      <td>CashAndCashEquivalentsPeriodIncreaseDecrease</td>\n",
       "      <td>us-gaap/2008</td>\n",
       "      <td>Cash and Cash Equivalents, Period Increase (De...</td>\n",
       "      <td>0</td>\n",
       "    </tr>\n",
       "    <tr>\n",
       "      <th>1926</th>\n",
       "      <td>0001193125-09-124260</td>\n",
       "      <td>3</td>\n",
       "      <td>29</td>\n",
       "      <td>CF</td>\n",
       "      <td>0</td>\n",
       "      <td>X</td>\n",
       "      <td>CashAndCashEquivalentsAtCarryingValue</td>\n",
       "      <td>us-gaap/2008</td>\n",
       "      <td>Cash and Cash Equivalents, at Carrying Value, ...</td>\n",
       "      <td>0</td>\n",
       "    </tr>\n",
       "    <tr>\n",
       "      <th>1927</th>\n",
       "      <td>0001193125-09-124260</td>\n",
       "      <td>3</td>\n",
       "      <td>30</td>\n",
       "      <td>CF</td>\n",
       "      <td>0</td>\n",
       "      <td>X</td>\n",
       "      <td>CashAndCashEquivalentsAtCarryingValue</td>\n",
       "      <td>us-gaap/2008</td>\n",
       "      <td>Cash and Cash Equivalents, at Carrying Value, ...</td>\n",
       "      <td>0</td>\n",
       "    </tr>\n",
       "  </tbody>\n",
       "</table>\n",
       "<p>1928 rows × 10 columns</p>\n",
       "</div>"
      ],
      "text/plain": [
       "                      adsh  report  line stmt  inpth rfile  \\\n",
       "0     0000038074-09-000029       1     3   BS      0     X   \n",
       "1     0000038074-09-000029       1     4   BS      0     X   \n",
       "2     0000038074-09-000029       1     5   BS      0     X   \n",
       "3     0000038074-09-000029       1     6   BS      0     X   \n",
       "4     0000038074-09-000029       1     7   BS      0     X   \n",
       "...                    ...     ...   ...  ...    ...   ...   \n",
       "1923  0001193125-09-124260       3    26   CF      0     X   \n",
       "1924  0001193125-09-124260       3    27   CF      0     X   \n",
       "1925  0001193125-09-124260       3    28   CF      0     X   \n",
       "1926  0001193125-09-124260       3    29   CF      0     X   \n",
       "1927  0001193125-09-124260       3    30   CF      0     X   \n",
       "\n",
       "                                               tag       version  \\\n",
       "0            CashAndCashEquivalentsAtCarryingValue  us-gaap/2008   \n",
       "1                      MarketableSecuritiesCurrent  us-gaap/2008   \n",
       "2                     AccountsReceivableNetCurrent  us-gaap/2008   \n",
       "3                                     InventoryNet  us-gaap/2008   \n",
       "4                      DeferredTaxAssetsNetCurrent  us-gaap/2008   \n",
       "...                                            ...           ...   \n",
       "1923    NetCashProvidedByUsedInFinancingActivities  us-gaap/2008   \n",
       "1924  EffectOfExchangeRateOnCashAndCashEquivalents  us-gaap/2008   \n",
       "1925  CashAndCashEquivalentsPeriodIncreaseDecrease  us-gaap/2008   \n",
       "1926         CashAndCashEquivalentsAtCarryingValue  us-gaap/2008   \n",
       "1927         CashAndCashEquivalentsAtCarryingValue  us-gaap/2008   \n",
       "\n",
       "                                                 plabel  negating  \n",
       "0                  Cash and cash equivalent investments         0  \n",
       "1                                 Marketable securities         0  \n",
       "2                              Accounts receivable, net         0  \n",
       "3                                      Inventories, net         0  \n",
       "4                                 Deferred income taxes         0  \n",
       "...                                                 ...       ...  \n",
       "1923  Net Cash Provided by (Used in) Financing Activ...         0  \n",
       "1924  Effect of exchange rate changes on cash and ca...         0  \n",
       "1925  Cash and Cash Equivalents, Period Increase (De...         0  \n",
       "1926  Cash and Cash Equivalents, at Carrying Value, ...         0  \n",
       "1927  Cash and Cash Equivalents, at Carrying Value, ...         0  \n",
       "\n",
       "[1928 rows x 10 columns]"
      ]
     },
     "execution_count": 14,
     "metadata": {},
     "output_type": "execute_result"
    }
   ],
   "source": [
    "pre"
   ]
  }
 ],
 "metadata": {
  "kernelspec": {
   "display_name": "base",
   "language": "python",
   "name": "python3"
  },
  "language_info": {
   "codemirror_mode": {
    "name": "ipython",
    "version": 3
   },
   "file_extension": ".py",
   "mimetype": "text/x-python",
   "name": "python",
   "nbconvert_exporter": "python",
   "pygments_lexer": "ipython3",
   "version": "3.12.2"
  }
 },
 "nbformat": 4,
 "nbformat_minor": 2
}
